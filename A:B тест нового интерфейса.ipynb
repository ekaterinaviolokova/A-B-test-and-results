{
 "cells": [
  {
   "cell_type": "markdown",
   "metadata": {
    "id": "u98L9TgH0eMk"
   },
   "source": [
    "# Разработка A/B-тестирования и анализ результатов\n",
    "\n",
    "Вы работаете продуктовым аналитиком в компании, которая разрабатывает развлекательное приложение с функцией «бесконечной» ленты, как, например, в приложениях с короткими видео. В вашем приложении существует две модели монетизации: первая — ежемесячная платная подписка, которая позволяет пользователям смотреть ленту без рекламы, вторая — демонстрация рекламы для пользователей, которые ещё не оформили подписку.\n",
    "\n",
    "Команда разработчиков рекомендательных систем создала новый алгоритм рекомендаций, который, по их мнению, будет показывать более интересный контент для каждого пользователя. Вас, как аналитика, просят помочь рассчитать параметры A/B-теста, который позволит проверить эту гипотезу, и проанализировать его результаты."
   ]
  },
  {
   "cell_type": "markdown",
   "metadata": {
    "id": "LJBRALHs0eMf"
   },
   "source": [
    "## Описание данных\n",
    "\n",
    "- `sessions_project_history.csv` — таблица с историческими данными по сессиям пользователей на период с 2025-08-15 по 2025-09-23. Путь к файлу: `/datasets/sessions_project_history.csv`.\n",
    "\n",
    "- `sessions_project_test_part.csv` — таблица с данными за первый день проведения A/B-теста, то есть за 2025-10-14. Путь к файлу: `/datasets/sessions_project_test_part.csv`.\n",
    "\n",
    "- `sessions_project_test.csv` — таблица с данными за весь период проведения A/B-теста, то есть с 2025-10-14 по 2025-11-02. Путь к файлу: `/datasets/sessions_project_test.csv`.\n",
    "\n",
    "У этих таблиц почти совпадает структура и содержание колонок, различаются лишь периоды наблюдения.\n",
    "\n",
    "\n",
    "## Задачи\n",
    "1. Рассчитать параметры теста: необходимый размер выборки и длительность теста.\n",
    "2. Оценить изменения ключевой метрики (доля сессий с четырьмя и более просмотренными страницами), прокси-метрик (количество всех сессий в день)\n",
    "3. Оценить корректность проведения теста и проанализировать результаты эксперимента, можно ли произошедшие изменения считать значимыми."
   ]
  },
  {
   "cell_type": "markdown",
   "metadata": {
    "id": "UpOucjID0eMl"
   },
   "source": [
    "### 1. Работа с историческими данными (EDA)"
   ]
  },
  {
   "cell_type": "code",
   "execution_count": 2,
   "metadata": {
    "id": "6TPR2-1RPboT"
   },
   "outputs": [
    {
     "name": "stdout",
     "output_type": "stream",
     "text": [
      "Requirement already satisfied: matplotlib-venn in /opt/anaconda3/lib/python3.12/site-packages (1.1.2)\n",
      "Requirement already satisfied: matplotlib in /opt/anaconda3/lib/python3.12/site-packages (from matplotlib-venn) (3.9.2)\n",
      "Requirement already satisfied: numpy in /opt/anaconda3/lib/python3.12/site-packages (from matplotlib-venn) (1.26.4)\n",
      "Requirement already satisfied: scipy in /opt/anaconda3/lib/python3.12/site-packages (from matplotlib-venn) (1.13.1)\n",
      "Requirement already satisfied: contourpy>=1.0.1 in /opt/anaconda3/lib/python3.12/site-packages (from matplotlib->matplotlib-venn) (1.2.0)\n",
      "Requirement already satisfied: cycler>=0.10 in /opt/anaconda3/lib/python3.12/site-packages (from matplotlib->matplotlib-venn) (0.11.0)\n",
      "Requirement already satisfied: fonttools>=4.22.0 in /opt/anaconda3/lib/python3.12/site-packages (from matplotlib->matplotlib-venn) (4.51.0)\n",
      "Requirement already satisfied: kiwisolver>=1.3.1 in /opt/anaconda3/lib/python3.12/site-packages (from matplotlib->matplotlib-venn) (1.4.4)\n",
      "Requirement already satisfied: packaging>=20.0 in /opt/anaconda3/lib/python3.12/site-packages (from matplotlib->matplotlib-venn) (24.1)\n",
      "Requirement already satisfied: pillow>=8 in /opt/anaconda3/lib/python3.12/site-packages (from matplotlib->matplotlib-venn) (10.4.0)\n",
      "Requirement already satisfied: pyparsing>=2.3.1 in /opt/anaconda3/lib/python3.12/site-packages (from matplotlib->matplotlib-venn) (3.1.2)\n",
      "Requirement already satisfied: python-dateutil>=2.7 in /opt/anaconda3/lib/python3.12/site-packages (from matplotlib->matplotlib-venn) (2.9.0.post0)\n",
      "Requirement already satisfied: six>=1.5 in /opt/anaconda3/lib/python3.12/site-packages (from python-dateutil>=2.7->matplotlib->matplotlib-venn) (1.16.0)\n"
     ]
    }
   ],
   "source": [
    "!pip install matplotlib-venn\n",
    "\n",
    "import pandas as pd\n",
    "import numpy as np\n",
    "import matplotlib.pyplot as plt\n",
    "import seaborn as sns\n",
    "from matplotlib_venn import venn2, venn2_circles"
   ]
  },
  {
   "cell_type": "code",
   "execution_count": 12,
   "metadata": {},
   "outputs": [],
   "source": [
    "sessions_history = pd.read_csv('https://code.s3.yandex.net/datasets/sessions_project_history.csv')"
   ]
  },
  {
   "cell_type": "code",
   "execution_count": 13,
   "metadata": {},
   "outputs": [
    {
     "data": {
      "text/html": [
       "<div>\n",
       "<style scoped>\n",
       "    .dataframe tbody tr th:only-of-type {\n",
       "        vertical-align: middle;\n",
       "    }\n",
       "\n",
       "    .dataframe tbody tr th {\n",
       "        vertical-align: top;\n",
       "    }\n",
       "\n",
       "    .dataframe thead th {\n",
       "        text-align: right;\n",
       "    }\n",
       "</style>\n",
       "<table border=\"1\" class=\"dataframe\">\n",
       "  <thead>\n",
       "    <tr style=\"text-align: right;\">\n",
       "      <th></th>\n",
       "      <th>user_id</th>\n",
       "      <th>session_id</th>\n",
       "      <th>session_date</th>\n",
       "      <th>session_start_ts</th>\n",
       "      <th>install_date</th>\n",
       "      <th>session_number</th>\n",
       "      <th>registration_flag</th>\n",
       "      <th>page_counter</th>\n",
       "      <th>region</th>\n",
       "      <th>device</th>\n",
       "    </tr>\n",
       "  </thead>\n",
       "  <tbody>\n",
       "    <tr>\n",
       "      <th>0</th>\n",
       "      <td>E302123B7000BFE4</td>\n",
       "      <td>F9AF61A0C2023832</td>\n",
       "      <td>2025-08-15</td>\n",
       "      <td>2025-08-15 17:47:35</td>\n",
       "      <td>2025-08-15</td>\n",
       "      <td>1</td>\n",
       "      <td>0</td>\n",
       "      <td>3</td>\n",
       "      <td>CIS</td>\n",
       "      <td>iPhone</td>\n",
       "    </tr>\n",
       "    <tr>\n",
       "      <th>1</th>\n",
       "      <td>2530F72E221829FB</td>\n",
       "      <td>85003A206CBDAC6F</td>\n",
       "      <td>2025-08-15</td>\n",
       "      <td>2025-08-15 16:42:14</td>\n",
       "      <td>2025-08-15</td>\n",
       "      <td>1</td>\n",
       "      <td>0</td>\n",
       "      <td>4</td>\n",
       "      <td>MENA</td>\n",
       "      <td>Android</td>\n",
       "    </tr>\n",
       "    <tr>\n",
       "      <th>2</th>\n",
       "      <td>876E020A4FC512F5</td>\n",
       "      <td>3677423E49D72DEE</td>\n",
       "      <td>2025-08-15</td>\n",
       "      <td>2025-08-15 12:30:00</td>\n",
       "      <td>2025-08-15</td>\n",
       "      <td>1</td>\n",
       "      <td>0</td>\n",
       "      <td>4</td>\n",
       "      <td>EU</td>\n",
       "      <td>PC</td>\n",
       "    </tr>\n",
       "    <tr>\n",
       "      <th>3</th>\n",
       "      <td>2640B349E1D81584</td>\n",
       "      <td>956B45F5915CA225</td>\n",
       "      <td>2025-08-15</td>\n",
       "      <td>2025-08-15 15:31:31</td>\n",
       "      <td>2025-08-15</td>\n",
       "      <td>1</td>\n",
       "      <td>0</td>\n",
       "      <td>4</td>\n",
       "      <td>CIS</td>\n",
       "      <td>Android</td>\n",
       "    </tr>\n",
       "    <tr>\n",
       "      <th>4</th>\n",
       "      <td>94E1CBFAEF1F5EE9</td>\n",
       "      <td>83BF0DA35F9F1F40</td>\n",
       "      <td>2025-08-15</td>\n",
       "      <td>2025-08-15 21:33:53</td>\n",
       "      <td>2025-08-15</td>\n",
       "      <td>1</td>\n",
       "      <td>0</td>\n",
       "      <td>3</td>\n",
       "      <td>CIS</td>\n",
       "      <td>Android</td>\n",
       "    </tr>\n",
       "  </tbody>\n",
       "</table>\n",
       "</div>"
      ],
      "text/plain": [
       "            user_id        session_id session_date     session_start_ts  \\\n",
       "0  E302123B7000BFE4  F9AF61A0C2023832   2025-08-15  2025-08-15 17:47:35   \n",
       "1  2530F72E221829FB  85003A206CBDAC6F   2025-08-15  2025-08-15 16:42:14   \n",
       "2  876E020A4FC512F5  3677423E49D72DEE   2025-08-15  2025-08-15 12:30:00   \n",
       "3  2640B349E1D81584  956B45F5915CA225   2025-08-15  2025-08-15 15:31:31   \n",
       "4  94E1CBFAEF1F5EE9  83BF0DA35F9F1F40   2025-08-15  2025-08-15 21:33:53   \n",
       "\n",
       "  install_date  session_number  registration_flag  page_counter region  \\\n",
       "0   2025-08-15               1                  0             3    CIS   \n",
       "1   2025-08-15               1                  0             4   MENA   \n",
       "2   2025-08-15               1                  0             4     EU   \n",
       "3   2025-08-15               1                  0             4    CIS   \n",
       "4   2025-08-15               1                  0             3    CIS   \n",
       "\n",
       "    device  \n",
       "0   iPhone  \n",
       "1  Android  \n",
       "2       PC  \n",
       "3  Android  \n",
       "4  Android  "
      ]
     },
     "execution_count": 13,
     "metadata": {},
     "output_type": "execute_result"
    }
   ],
   "source": [
    "sessions_history.head()"
   ]
  },
  {
   "cell_type": "markdown",
   "metadata": {
    "id": "qTDoiODz0eMo"
   },
   "source": [
    "#### 1.2. Знакомство с данными"
   ]
  },
  {
   "cell_type": "code",
   "execution_count": 14,
   "metadata": {
    "id": "PWZO9vTIPbPN"
   },
   "outputs": [
    {
     "data": {
      "text/plain": [
       "user_id\n",
       "10E0DEFC1ABDBBE0    10\n",
       "6A73CB5566BB494D    10\n",
       "8A60431A825D035B     9\n",
       "D11541BAC141FB94     9\n",
       "5BCFE7C4DCC148E9     9\n",
       "                    ..\n",
       "1DF13BB1953B3497     1\n",
       "628502A3CE7E0A3C     1\n",
       "1DEEF40DEFBD0C65     1\n",
       "AC08479B7472C628     1\n",
       "8A0882B6715D9EE5     1\n",
       "Name: session_id, Length: 134039, dtype: int64"
      ]
     },
     "execution_count": 14,
     "metadata": {},
     "output_type": "execute_result"
    }
   ],
   "source": [
    "sessions_history.groupby('user_id')['session_id'].nunique().sort_values(ascending=False)"
   ]
  },
  {
   "cell_type": "code",
   "execution_count": 15,
   "metadata": {},
   "outputs": [
    {
     "data": {
      "text/html": [
       "<div>\n",
       "<style scoped>\n",
       "    .dataframe tbody tr th:only-of-type {\n",
       "        vertical-align: middle;\n",
       "    }\n",
       "\n",
       "    .dataframe tbody tr th {\n",
       "        vertical-align: top;\n",
       "    }\n",
       "\n",
       "    .dataframe thead th {\n",
       "        text-align: right;\n",
       "    }\n",
       "</style>\n",
       "<table border=\"1\" class=\"dataframe\">\n",
       "  <thead>\n",
       "    <tr style=\"text-align: right;\">\n",
       "      <th></th>\n",
       "      <th>user_id</th>\n",
       "      <th>session_id</th>\n",
       "      <th>session_date</th>\n",
       "      <th>session_start_ts</th>\n",
       "      <th>install_date</th>\n",
       "      <th>session_number</th>\n",
       "      <th>registration_flag</th>\n",
       "      <th>page_counter</th>\n",
       "      <th>region</th>\n",
       "      <th>device</th>\n",
       "    </tr>\n",
       "  </thead>\n",
       "  <tbody>\n",
       "    <tr>\n",
       "      <th>115558</th>\n",
       "      <td>10E0DEFC1ABDBBE0</td>\n",
       "      <td>B8F0423BBFFCF5DC</td>\n",
       "      <td>2025-08-14</td>\n",
       "      <td>2025-08-14 13:57:39</td>\n",
       "      <td>2025-08-14</td>\n",
       "      <td>1</td>\n",
       "      <td>0</td>\n",
       "      <td>4</td>\n",
       "      <td>CIS</td>\n",
       "      <td>Android</td>\n",
       "    </tr>\n",
       "    <tr>\n",
       "      <th>191751</th>\n",
       "      <td>10E0DEFC1ABDBBE0</td>\n",
       "      <td>87CA2FA549473837</td>\n",
       "      <td>2025-08-15</td>\n",
       "      <td>2025-08-15 16:42:10</td>\n",
       "      <td>2025-08-14</td>\n",
       "      <td>2</td>\n",
       "      <td>0</td>\n",
       "      <td>3</td>\n",
       "      <td>CIS</td>\n",
       "      <td>Android</td>\n",
       "    </tr>\n",
       "    <tr>\n",
       "      <th>239370</th>\n",
       "      <td>10E0DEFC1ABDBBE0</td>\n",
       "      <td>4ADD8011DCDCE318</td>\n",
       "      <td>2025-08-16</td>\n",
       "      <td>2025-08-16 19:53:21</td>\n",
       "      <td>2025-08-14</td>\n",
       "      <td>3</td>\n",
       "      <td>0</td>\n",
       "      <td>3</td>\n",
       "      <td>CIS</td>\n",
       "      <td>Android</td>\n",
       "    </tr>\n",
       "    <tr>\n",
       "      <th>274629</th>\n",
       "      <td>10E0DEFC1ABDBBE0</td>\n",
       "      <td>DF0FD0E09BF1F3D7</td>\n",
       "      <td>2025-08-17</td>\n",
       "      <td>2025-08-17 15:03:43</td>\n",
       "      <td>2025-08-14</td>\n",
       "      <td>4</td>\n",
       "      <td>0</td>\n",
       "      <td>1</td>\n",
       "      <td>CIS</td>\n",
       "      <td>Android</td>\n",
       "    </tr>\n",
       "    <tr>\n",
       "      <th>302501</th>\n",
       "      <td>10E0DEFC1ABDBBE0</td>\n",
       "      <td>3C221774B4DE6885</td>\n",
       "      <td>2025-08-18</td>\n",
       "      <td>2025-08-18 17:29:14</td>\n",
       "      <td>2025-08-14</td>\n",
       "      <td>5</td>\n",
       "      <td>0</td>\n",
       "      <td>4</td>\n",
       "      <td>CIS</td>\n",
       "      <td>Android</td>\n",
       "    </tr>\n",
       "    <tr>\n",
       "      <th>325557</th>\n",
       "      <td>10E0DEFC1ABDBBE0</td>\n",
       "      <td>031BD7A67048105B</td>\n",
       "      <td>2025-08-19</td>\n",
       "      <td>2025-08-19 13:23:55</td>\n",
       "      <td>2025-08-14</td>\n",
       "      <td>6</td>\n",
       "      <td>0</td>\n",
       "      <td>2</td>\n",
       "      <td>CIS</td>\n",
       "      <td>Android</td>\n",
       "    </tr>\n",
       "    <tr>\n",
       "      <th>345336</th>\n",
       "      <td>10E0DEFC1ABDBBE0</td>\n",
       "      <td>FF4315CF4AD4B100</td>\n",
       "      <td>2025-08-20</td>\n",
       "      <td>2025-08-20 19:31:54</td>\n",
       "      <td>2025-08-14</td>\n",
       "      <td>7</td>\n",
       "      <td>0</td>\n",
       "      <td>2</td>\n",
       "      <td>CIS</td>\n",
       "      <td>Android</td>\n",
       "    </tr>\n",
       "    <tr>\n",
       "      <th>377532</th>\n",
       "      <td>10E0DEFC1ABDBBE0</td>\n",
       "      <td>4045FEA0747203B4</td>\n",
       "      <td>2025-08-22</td>\n",
       "      <td>2025-08-22 17:54:13</td>\n",
       "      <td>2025-08-14</td>\n",
       "      <td>8</td>\n",
       "      <td>0</td>\n",
       "      <td>2</td>\n",
       "      <td>CIS</td>\n",
       "      <td>Android</td>\n",
       "    </tr>\n",
       "    <tr>\n",
       "      <th>403538</th>\n",
       "      <td>10E0DEFC1ABDBBE0</td>\n",
       "      <td>344B086C421C7F37</td>\n",
       "      <td>2025-08-24</td>\n",
       "      <td>2025-08-24 14:46:13</td>\n",
       "      <td>2025-08-14</td>\n",
       "      <td>9</td>\n",
       "      <td>0</td>\n",
       "      <td>2</td>\n",
       "      <td>CIS</td>\n",
       "      <td>Android</td>\n",
       "    </tr>\n",
       "    <tr>\n",
       "      <th>414743</th>\n",
       "      <td>10E0DEFC1ABDBBE0</td>\n",
       "      <td>054F20BA371E4C9D</td>\n",
       "      <td>2025-08-25</td>\n",
       "      <td>2025-08-25 18:36:41</td>\n",
       "      <td>2025-08-14</td>\n",
       "      <td>10</td>\n",
       "      <td>0</td>\n",
       "      <td>3</td>\n",
       "      <td>CIS</td>\n",
       "      <td>Android</td>\n",
       "    </tr>\n",
       "  </tbody>\n",
       "</table>\n",
       "</div>"
      ],
      "text/plain": [
       "                 user_id        session_id session_date     session_start_ts  \\\n",
       "115558  10E0DEFC1ABDBBE0  B8F0423BBFFCF5DC   2025-08-14  2025-08-14 13:57:39   \n",
       "191751  10E0DEFC1ABDBBE0  87CA2FA549473837   2025-08-15  2025-08-15 16:42:10   \n",
       "239370  10E0DEFC1ABDBBE0  4ADD8011DCDCE318   2025-08-16  2025-08-16 19:53:21   \n",
       "274629  10E0DEFC1ABDBBE0  DF0FD0E09BF1F3D7   2025-08-17  2025-08-17 15:03:43   \n",
       "302501  10E0DEFC1ABDBBE0  3C221774B4DE6885   2025-08-18  2025-08-18 17:29:14   \n",
       "325557  10E0DEFC1ABDBBE0  031BD7A67048105B   2025-08-19  2025-08-19 13:23:55   \n",
       "345336  10E0DEFC1ABDBBE0  FF4315CF4AD4B100   2025-08-20  2025-08-20 19:31:54   \n",
       "377532  10E0DEFC1ABDBBE0  4045FEA0747203B4   2025-08-22  2025-08-22 17:54:13   \n",
       "403538  10E0DEFC1ABDBBE0  344B086C421C7F37   2025-08-24  2025-08-24 14:46:13   \n",
       "414743  10E0DEFC1ABDBBE0  054F20BA371E4C9D   2025-08-25  2025-08-25 18:36:41   \n",
       "\n",
       "       install_date  session_number  registration_flag  page_counter region  \\\n",
       "115558   2025-08-14               1                  0             4    CIS   \n",
       "191751   2025-08-14               2                  0             3    CIS   \n",
       "239370   2025-08-14               3                  0             3    CIS   \n",
       "274629   2025-08-14               4                  0             1    CIS   \n",
       "302501   2025-08-14               5                  0             4    CIS   \n",
       "325557   2025-08-14               6                  0             2    CIS   \n",
       "345336   2025-08-14               7                  0             2    CIS   \n",
       "377532   2025-08-14               8                  0             2    CIS   \n",
       "403538   2025-08-14               9                  0             2    CIS   \n",
       "414743   2025-08-14              10                  0             3    CIS   \n",
       "\n",
       "         device  \n",
       "115558  Android  \n",
       "191751  Android  \n",
       "239370  Android  \n",
       "274629  Android  \n",
       "302501  Android  \n",
       "325557  Android  \n",
       "345336  Android  \n",
       "377532  Android  \n",
       "403538  Android  \n",
       "414743  Android  "
      ]
     },
     "execution_count": 15,
     "metadata": {},
     "output_type": "execute_result"
    }
   ],
   "source": [
    "sessions_history[sessions_history['user_id'] == '10E0DEFC1ABDBBE0']"
   ]
  },
  {
   "cell_type": "markdown",
   "metadata": {
    "id": "CmcGpJTP0eMq"
   },
   "source": [
    "#### 1.3. Анализ числа регистраций"
   ]
  },
  {
   "cell_type": "code",
   "execution_count": 16,
   "metadata": {
    "id": "tN_6Ml3EPatS"
   },
   "outputs": [
    {
     "data": {
      "text/html": [
       "<div>\n",
       "<style scoped>\n",
       "    .dataframe tbody tr th:only-of-type {\n",
       "        vertical-align: middle;\n",
       "    }\n",
       "\n",
       "    .dataframe tbody tr th {\n",
       "        vertical-align: top;\n",
       "    }\n",
       "\n",
       "    .dataframe thead th {\n",
       "        text-align: right;\n",
       "    }\n",
       "</style>\n",
       "<table border=\"1\" class=\"dataframe\">\n",
       "  <thead>\n",
       "    <tr style=\"text-align: right;\">\n",
       "      <th></th>\n",
       "      <th>session_date</th>\n",
       "      <th>unique_users_qty</th>\n",
       "    </tr>\n",
       "  </thead>\n",
       "  <tbody>\n",
       "    <tr>\n",
       "      <th>0</th>\n",
       "      <td>2025-08-11</td>\n",
       "      <td>3919</td>\n",
       "    </tr>\n",
       "    <tr>\n",
       "      <th>1</th>\n",
       "      <td>2025-08-12</td>\n",
       "      <td>6056</td>\n",
       "    </tr>\n",
       "    <tr>\n",
       "      <th>2</th>\n",
       "      <td>2025-08-13</td>\n",
       "      <td>8489</td>\n",
       "    </tr>\n",
       "    <tr>\n",
       "      <th>3</th>\n",
       "      <td>2025-08-14</td>\n",
       "      <td>10321</td>\n",
       "    </tr>\n",
       "    <tr>\n",
       "      <th>4</th>\n",
       "      <td>2025-08-15</td>\n",
       "      <td>14065</td>\n",
       "    </tr>\n",
       "  </tbody>\n",
       "</table>\n",
       "</div>"
      ],
      "text/plain": [
       "  session_date  unique_users_qty\n",
       "0   2025-08-11              3919\n",
       "1   2025-08-12              6056\n",
       "2   2025-08-13              8489\n",
       "3   2025-08-14             10321\n",
       "4   2025-08-15             14065"
      ]
     },
     "execution_count": 16,
     "metadata": {},
     "output_type": "execute_result"
    }
   ],
   "source": [
    "unique_ids = sessions_history.groupby('session_date')['user_id'].nunique().reset_index()\n",
    "unique_ids = unique_ids.rename(columns = {'user_id': 'unique_users_qty'})\n",
    "unique_ids.head()"
   ]
  },
  {
   "cell_type": "code",
   "execution_count": 17,
   "metadata": {},
   "outputs": [
    {
     "data": {
      "text/html": [
       "<div>\n",
       "<style scoped>\n",
       "    .dataframe tbody tr th:only-of-type {\n",
       "        vertical-align: middle;\n",
       "    }\n",
       "\n",
       "    .dataframe tbody tr th {\n",
       "        vertical-align: top;\n",
       "    }\n",
       "\n",
       "    .dataframe thead th {\n",
       "        text-align: right;\n",
       "    }\n",
       "</style>\n",
       "<table border=\"1\" class=\"dataframe\">\n",
       "  <thead>\n",
       "    <tr style=\"text-align: right;\">\n",
       "      <th></th>\n",
       "      <th>session_date</th>\n",
       "      <th>unique_registered_qty</th>\n",
       "    </tr>\n",
       "  </thead>\n",
       "  <tbody>\n",
       "    <tr>\n",
       "      <th>0</th>\n",
       "      <td>2025-08-11</td>\n",
       "      <td>169</td>\n",
       "    </tr>\n",
       "    <tr>\n",
       "      <th>1</th>\n",
       "      <td>2025-08-12</td>\n",
       "      <td>336</td>\n",
       "    </tr>\n",
       "    <tr>\n",
       "      <th>2</th>\n",
       "      <td>2025-08-13</td>\n",
       "      <td>464</td>\n",
       "    </tr>\n",
       "    <tr>\n",
       "      <th>3</th>\n",
       "      <td>2025-08-14</td>\n",
       "      <td>625</td>\n",
       "    </tr>\n",
       "    <tr>\n",
       "      <th>4</th>\n",
       "      <td>2025-08-15</td>\n",
       "      <td>840</td>\n",
       "    </tr>\n",
       "  </tbody>\n",
       "</table>\n",
       "</div>"
      ],
      "text/plain": [
       "  session_date  unique_registered_qty\n",
       "0   2025-08-11                    169\n",
       "1   2025-08-12                    336\n",
       "2   2025-08-13                    464\n",
       "3   2025-08-14                    625\n",
       "4   2025-08-15                    840"
      ]
     },
     "execution_count": 17,
     "metadata": {},
     "output_type": "execute_result"
    }
   ],
   "source": [
    "unique_registered = sessions_history[sessions_history['registration_flag'] == 1].groupby('session_date')['user_id'].nunique().reset_index()\n",
    "unique_registered = unique_registered.rename(columns = {'user_id': 'unique_registered_qty'})\n",
    "unique_registered.head()"
   ]
  },
  {
   "cell_type": "code",
   "execution_count": 18,
   "metadata": {},
   "outputs": [
    {
     "data": {
      "text/html": [
       "<div>\n",
       "<style scoped>\n",
       "    .dataframe tbody tr th:only-of-type {\n",
       "        vertical-align: middle;\n",
       "    }\n",
       "\n",
       "    .dataframe tbody tr th {\n",
       "        vertical-align: top;\n",
       "    }\n",
       "\n",
       "    .dataframe thead th {\n",
       "        text-align: right;\n",
       "    }\n",
       "</style>\n",
       "<table border=\"1\" class=\"dataframe\">\n",
       "  <thead>\n",
       "    <tr style=\"text-align: right;\">\n",
       "      <th></th>\n",
       "      <th>session_date</th>\n",
       "      <th>unique_users_qty</th>\n",
       "      <th>unique_registered_qty</th>\n",
       "      <th>registered_users_share</th>\n",
       "    </tr>\n",
       "  </thead>\n",
       "  <tbody>\n",
       "    <tr>\n",
       "      <th>0</th>\n",
       "      <td>2025-08-11</td>\n",
       "      <td>3919</td>\n",
       "      <td>169</td>\n",
       "      <td>0.043123</td>\n",
       "    </tr>\n",
       "    <tr>\n",
       "      <th>1</th>\n",
       "      <td>2025-08-12</td>\n",
       "      <td>6056</td>\n",
       "      <td>336</td>\n",
       "      <td>0.055482</td>\n",
       "    </tr>\n",
       "    <tr>\n",
       "      <th>2</th>\n",
       "      <td>2025-08-13</td>\n",
       "      <td>8489</td>\n",
       "      <td>464</td>\n",
       "      <td>0.054659</td>\n",
       "    </tr>\n",
       "    <tr>\n",
       "      <th>3</th>\n",
       "      <td>2025-08-14</td>\n",
       "      <td>10321</td>\n",
       "      <td>625</td>\n",
       "      <td>0.060556</td>\n",
       "    </tr>\n",
       "    <tr>\n",
       "      <th>4</th>\n",
       "      <td>2025-08-15</td>\n",
       "      <td>14065</td>\n",
       "      <td>840</td>\n",
       "      <td>0.059723</td>\n",
       "    </tr>\n",
       "  </tbody>\n",
       "</table>\n",
       "</div>"
      ],
      "text/plain": [
       "  session_date  unique_users_qty  unique_registered_qty  \\\n",
       "0   2025-08-11              3919                    169   \n",
       "1   2025-08-12              6056                    336   \n",
       "2   2025-08-13              8489                    464   \n",
       "3   2025-08-14             10321                    625   \n",
       "4   2025-08-15             14065                    840   \n",
       "\n",
       "   registered_users_share  \n",
       "0                0.043123  \n",
       "1                0.055482  \n",
       "2                0.054659  \n",
       "3                0.060556  \n",
       "4                0.059723  "
      ]
     },
     "execution_count": 18,
     "metadata": {},
     "output_type": "execute_result"
    }
   ],
   "source": [
    "users_per_dates = unique_ids.merge(unique_registered, on='session_date')\n",
    "users_per_dates['registered_users_share'] = users_per_dates['unique_registered_qty']/users_per_dates['unique_users_qty']\n",
    "users_per_dates.head()"
   ]
  },
  {
   "cell_type": "code",
   "execution_count": 19,
   "metadata": {},
   "outputs": [
    {
     "data": {
      "image/png": "[encoded data removed]",
      "text/plain": [
       "<Figure size 1400x600 with 1 Axes>"
      ]
     },
     "metadata": {},
     "output_type": "display_data"
    }
   ],
   "source": [
    "plt.figure(figsize=(14, 6))\n",
    "sns.lineplot(data=users_per_dates, x='session_date', y='unique_users_qty', label='Все пользователи')\n",
    "sns.lineplot(data=users_per_dates, x='session_date', y='unique_registered_qty', label='Зарегистрированные')\n",
    "plt.title('Общее количество юзеров и зарегистрированных пользователей')\n",
    "plt.xlabel('Дата')\n",
    "plt.xlim([users_per_dates['session_date'].min(), users_per_dates['session_date'].max()])\n",
    "plt.ylabel('Количество пользователей')\n",
    "plt.grid(True)\n",
    "plt.legend()\n",
    "plt.xticks(rotation=90)\n",
    "plt.show()"
   ]
  },
  {
   "cell_type": "code",
   "execution_count": 20,
   "metadata": {},
   "outputs": [
    {
     "data": {
      "image/png": "[encoded data removed]",
      "text/plain": [
       "<Figure size 1000x600 with 1 Axes>"
      ]
     },
     "metadata": {},
     "output_type": "display_data"
    }
   ],
   "source": [
    "plt.figure(figsize = (10, 6))\n",
    "sns.lineplot(data = users_per_dates, x = 'session_date', y = 'registered_users_share', label = 'Доля зарегистрированных пользователей')\n",
    "plt.title('Доля зарегистрированных пользователей от всех пользователей по датам')\n",
    "plt.xlabel('Дата')\n",
    "plt.ylabel('Доля зарегистрированных пользователей')\n",
    "plt.xlim([users_per_dates['session_date'].min(), users_per_dates['session_date'].max()])\n",
    "plt.grid(True)\n",
    "plt.legend()\n",
    "plt.xticks(rotation=90)\n",
    "plt.show()"
   ]
  },
  {
   "cell_type": "markdown",
   "metadata": {
    "id": "UR7D7RhF0eMr"
   },
   "source": [
    "#### 1.4. Анализ числа просмотренных страниц"
   ]
  },
  {
   "cell_type": "code",
   "execution_count": 21,
   "metadata": {
    "id": "cb6hPlVzPaSf",
    "scrolled": true
   },
   "outputs": [
    {
     "data": {
      "text/html": [
       "<div>\n",
       "<style scoped>\n",
       "    .dataframe tbody tr th:only-of-type {\n",
       "        vertical-align: middle;\n",
       "    }\n",
       "\n",
       "    .dataframe tbody tr th {\n",
       "        vertical-align: top;\n",
       "    }\n",
       "\n",
       "    .dataframe thead th {\n",
       "        text-align: right;\n",
       "    }\n",
       "</style>\n",
       "<table border=\"1\" class=\"dataframe\">\n",
       "  <thead>\n",
       "    <tr style=\"text-align: right;\">\n",
       "      <th></th>\n",
       "      <th>page_counter</th>\n",
       "      <th>num_sessions</th>\n",
       "    </tr>\n",
       "  </thead>\n",
       "  <tbody>\n",
       "    <tr>\n",
       "      <th>0</th>\n",
       "      <td>1</td>\n",
       "      <td>29160</td>\n",
       "    </tr>\n",
       "    <tr>\n",
       "      <th>1</th>\n",
       "      <td>2</td>\n",
       "      <td>105536</td>\n",
       "    </tr>\n",
       "    <tr>\n",
       "      <th>2</th>\n",
       "      <td>3</td>\n",
       "      <td>166690</td>\n",
       "    </tr>\n",
       "    <tr>\n",
       "      <th>3</th>\n",
       "      <td>4</td>\n",
       "      <td>105569</td>\n",
       "    </tr>\n",
       "    <tr>\n",
       "      <th>4</th>\n",
       "      <td>5</td>\n",
       "      <td>26288</td>\n",
       "    </tr>\n",
       "    <tr>\n",
       "      <th>5</th>\n",
       "      <td>6</td>\n",
       "      <td>2589</td>\n",
       "    </tr>\n",
       "    <tr>\n",
       "      <th>6</th>\n",
       "      <td>7</td>\n",
       "      <td>92</td>\n",
       "    </tr>\n",
       "  </tbody>\n",
       "</table>\n",
       "</div>"
      ],
      "text/plain": [
       "   page_counter  num_sessions\n",
       "0             1         29160\n",
       "1             2        105536\n",
       "2             3        166690\n",
       "3             4        105569\n",
       "4             5         26288\n",
       "5             6          2589\n",
       "6             7            92"
      ]
     },
     "execution_count": 21,
     "metadata": {},
     "output_type": "execute_result"
    }
   ],
   "source": [
    "sessions_count = sessions_history.groupby('page_counter')['session_id'].count().reset_index()\n",
    "sessions_count = sessions_count.rename(columns = {'session_id': 'num_sessions'})\n",
    "sessions_count"
   ]
  },
  {
   "cell_type": "code",
   "execution_count": 22,
   "metadata": {},
   "outputs": [
    {
     "data": {
      "image/png": "[encoded data removed]",
      "text/plain": [
       "<Figure size 1000x600 with 1 Axes>"
      ]
     },
     "metadata": {},
     "output_type": "display_data"
    }
   ],
   "source": [
    "plt.figure(figsize = (10, 6))\n",
    "sns.barplot(data = sessions_count, x = 'page_counter', y = 'num_sessions', label = 'количество сессий')\n",
    "plt.title('Количество сессий для каждого значения количества просмотренных страниц')\n",
    "plt.xlabel('Количество просмотренных страниц')\n",
    "plt.ylabel('Количество сессий')\n",
    "plt.show()"
   ]
  },
  {
   "cell_type": "markdown",
   "metadata": {},
   "source": [
    "По построенному графику мы видим:\n",
    "1. Количество сессий с четырьмя просмотренными страницами аналогично количеству с двумя просмотренными страницами.\n",
    "2. Чаще всего пользователи открывают за одну сессию три страницы. \n",
    "3. Сессии с семью открытыми страницами можно считать аномальными, так как менее ста человек просматривают их. "
   ]
  },
  {
   "cell_type": "markdown",
   "metadata": {
    "id": "xDltSpVP0eMr"
   },
   "source": [
    "#### 1.5. Доля пользователей, просмотревших более четырёх страниц\n",
    "Продуктовая команда продукта считает, что сессии, в рамках которых пользователь просмотрел 4 и более страниц, говорят об удовлетворённости контентом и алгоритмами рекомендаций. Этот показатель является важной прокси-метрикой для продукта.\n",
    "\n",
    "- В датафрейме `sessions_history` создайте дополнительный столбец `good_session`. В него войдёт значение `1`, если за одну сессию было просмотрено 4 и более страниц, и значение `0`, если было просмотрено меньше.\n",
    "\n",
    "- Постройте график со средним значением доли успешных сессий ко всем сессиям по дням за весь период наблюдения."
   ]
  },
  {
   "cell_type": "code",
   "execution_count": 13,
   "metadata": {
    "id": "iygaPfixPYMW",
    "scrolled": true
   },
   "outputs": [
    {
     "data": {
      "text/html": [
       "<div>\n",
       "<style scoped>\n",
       "    .dataframe tbody tr th:only-of-type {\n",
       "        vertical-align: middle;\n",
       "    }\n",
       "\n",
       "    .dataframe tbody tr th {\n",
       "        vertical-align: top;\n",
       "    }\n",
       "\n",
       "    .dataframe thead th {\n",
       "        text-align: right;\n",
       "    }\n",
       "</style>\n",
       "<table border=\"1\" class=\"dataframe\">\n",
       "  <thead>\n",
       "    <tr style=\"text-align: right;\">\n",
       "      <th></th>\n",
       "      <th>user_id</th>\n",
       "      <th>session_id</th>\n",
       "      <th>session_date</th>\n",
       "      <th>session_start_ts</th>\n",
       "      <th>install_date</th>\n",
       "      <th>session_number</th>\n",
       "      <th>registration_flag</th>\n",
       "      <th>page_counter</th>\n",
       "      <th>region</th>\n",
       "      <th>device</th>\n",
       "      <th>good_session</th>\n",
       "    </tr>\n",
       "  </thead>\n",
       "  <tbody>\n",
       "    <tr>\n",
       "      <th>0</th>\n",
       "      <td>E302123B7000BFE4</td>\n",
       "      <td>F9AF61A0C2023832</td>\n",
       "      <td>2025-08-15</td>\n",
       "      <td>2025-08-15 17:47:35</td>\n",
       "      <td>2025-08-15</td>\n",
       "      <td>1</td>\n",
       "      <td>0</td>\n",
       "      <td>3</td>\n",
       "      <td>CIS</td>\n",
       "      <td>iPhone</td>\n",
       "      <td>0</td>\n",
       "    </tr>\n",
       "    <tr>\n",
       "      <th>1</th>\n",
       "      <td>2530F72E221829FB</td>\n",
       "      <td>85003A206CBDAC6F</td>\n",
       "      <td>2025-08-15</td>\n",
       "      <td>2025-08-15 16:42:14</td>\n",
       "      <td>2025-08-15</td>\n",
       "      <td>1</td>\n",
       "      <td>0</td>\n",
       "      <td>4</td>\n",
       "      <td>MENA</td>\n",
       "      <td>Android</td>\n",
       "      <td>1</td>\n",
       "    </tr>\n",
       "    <tr>\n",
       "      <th>2</th>\n",
       "      <td>876E020A4FC512F5</td>\n",
       "      <td>3677423E49D72DEE</td>\n",
       "      <td>2025-08-15</td>\n",
       "      <td>2025-08-15 12:30:00</td>\n",
       "      <td>2025-08-15</td>\n",
       "      <td>1</td>\n",
       "      <td>0</td>\n",
       "      <td>4</td>\n",
       "      <td>EU</td>\n",
       "      <td>PC</td>\n",
       "      <td>1</td>\n",
       "    </tr>\n",
       "    <tr>\n",
       "      <th>3</th>\n",
       "      <td>2640B349E1D81584</td>\n",
       "      <td>956B45F5915CA225</td>\n",
       "      <td>2025-08-15</td>\n",
       "      <td>2025-08-15 15:31:31</td>\n",
       "      <td>2025-08-15</td>\n",
       "      <td>1</td>\n",
       "      <td>0</td>\n",
       "      <td>4</td>\n",
       "      <td>CIS</td>\n",
       "      <td>Android</td>\n",
       "      <td>1</td>\n",
       "    </tr>\n",
       "    <tr>\n",
       "      <th>4</th>\n",
       "      <td>94E1CBFAEF1F5EE9</td>\n",
       "      <td>83BF0DA35F9F1F40</td>\n",
       "      <td>2025-08-15</td>\n",
       "      <td>2025-08-15 21:33:53</td>\n",
       "      <td>2025-08-15</td>\n",
       "      <td>1</td>\n",
       "      <td>0</td>\n",
       "      <td>3</td>\n",
       "      <td>CIS</td>\n",
       "      <td>Android</td>\n",
       "      <td>0</td>\n",
       "    </tr>\n",
       "  </tbody>\n",
       "</table>\n",
       "</div>"
      ],
      "text/plain": [
       "            user_id        session_id session_date     session_start_ts  \\\n",
       "0  E302123B7000BFE4  F9AF61A0C2023832   2025-08-15  2025-08-15 17:47:35   \n",
       "1  2530F72E221829FB  85003A206CBDAC6F   2025-08-15  2025-08-15 16:42:14   \n",
       "2  876E020A4FC512F5  3677423E49D72DEE   2025-08-15  2025-08-15 12:30:00   \n",
       "3  2640B349E1D81584  956B45F5915CA225   2025-08-15  2025-08-15 15:31:31   \n",
       "4  94E1CBFAEF1F5EE9  83BF0DA35F9F1F40   2025-08-15  2025-08-15 21:33:53   \n",
       "\n",
       "  install_date  session_number  registration_flag  page_counter region  \\\n",
       "0   2025-08-15               1                  0             3    CIS   \n",
       "1   2025-08-15               1                  0             4   MENA   \n",
       "2   2025-08-15               1                  0             4     EU   \n",
       "3   2025-08-15               1                  0             4    CIS   \n",
       "4   2025-08-15               1                  0             3    CIS   \n",
       "\n",
       "    device  good_session  \n",
       "0   iPhone             0  \n",
       "1  Android             1  \n",
       "2       PC             1  \n",
       "3  Android             1  \n",
       "4  Android             0  "
      ]
     },
     "execution_count": 13,
     "metadata": {},
     "output_type": "execute_result"
    }
   ],
   "source": [
    "sessions_history['good_session'] = sessions_history['page_counter'].apply(lambda x: 1 if x>= 4 else 0)\n",
    "sessions_history.head()"
   ]
  },
  {
   "cell_type": "code",
   "execution_count": 14,
   "metadata": {},
   "outputs": [
    {
     "data": {
      "text/html": [
       "<div>\n",
       "<style scoped>\n",
       "    .dataframe tbody tr th:only-of-type {\n",
       "        vertical-align: middle;\n",
       "    }\n",
       "\n",
       "    .dataframe tbody tr th {\n",
       "        vertical-align: top;\n",
       "    }\n",
       "\n",
       "    .dataframe thead th {\n",
       "        text-align: right;\n",
       "    }\n",
       "</style>\n",
       "<table border=\"1\" class=\"dataframe\">\n",
       "  <thead>\n",
       "    <tr style=\"text-align: right;\">\n",
       "      <th></th>\n",
       "      <th>session_date</th>\n",
       "      <th>good_sessions</th>\n",
       "      <th>all_sessions_qty</th>\n",
       "      <th>good_sessions_share</th>\n",
       "    </tr>\n",
       "  </thead>\n",
       "  <tbody>\n",
       "    <tr>\n",
       "      <th>0</th>\n",
       "      <td>2025-08-11</td>\n",
       "      <td>1226</td>\n",
       "      <td>3919</td>\n",
       "      <td>0.312835</td>\n",
       "    </tr>\n",
       "    <tr>\n",
       "      <th>1</th>\n",
       "      <td>2025-08-12</td>\n",
       "      <td>1829</td>\n",
       "      <td>6056</td>\n",
       "      <td>0.302015</td>\n",
       "    </tr>\n",
       "    <tr>\n",
       "      <th>2</th>\n",
       "      <td>2025-08-13</td>\n",
       "      <td>2604</td>\n",
       "      <td>8489</td>\n",
       "      <td>0.306750</td>\n",
       "    </tr>\n",
       "    <tr>\n",
       "      <th>3</th>\n",
       "      <td>2025-08-14</td>\n",
       "      <td>3262</td>\n",
       "      <td>10321</td>\n",
       "      <td>0.316055</td>\n",
       "    </tr>\n",
       "    <tr>\n",
       "      <th>4</th>\n",
       "      <td>2025-08-15</td>\n",
       "      <td>4289</td>\n",
       "      <td>14065</td>\n",
       "      <td>0.304941</td>\n",
       "    </tr>\n",
       "  </tbody>\n",
       "</table>\n",
       "</div>"
      ],
      "text/plain": [
       "  session_date  good_sessions  all_sessions_qty  good_sessions_share\n",
       "0   2025-08-11           1226              3919             0.312835\n",
       "1   2025-08-12           1829              6056             0.302015\n",
       "2   2025-08-13           2604              8489             0.306750\n",
       "3   2025-08-14           3262             10321             0.316055\n",
       "4   2025-08-15           4289             14065             0.304941"
      ]
     },
     "execution_count": 14,
     "metadata": {},
     "output_type": "execute_result"
    }
   ],
   "source": [
    "good_sessions = sessions_history.groupby('session_date')['good_session'].agg({'count', 'sum'}).reset_index()\n",
    "good_sessions = good_sessions.rename(columns = {'sum': 'good_sessions',\n",
    "                               'count': 'all_sessions_qty'})\n",
    "good_sessions['good_sessions_share'] = good_sessions['good_sessions']/good_sessions['all_sessions_qty']\n",
    "good_sessions.head()"
   ]
  },
  {
   "cell_type": "code",
   "execution_count": 15,
   "metadata": {},
   "outputs": [
    {
     "name": "stdout",
     "output_type": "stream",
     "text": [
      "Среднее значение доли успешных сессий ко всем сессиям по дням за весь период наблюдения составляет 0.31\n"
     ]
    }
   ],
   "source": [
    "mean = round(good_sessions['good_sessions_share'].mean(), 2)\n",
    "print(f\"Среднее значение доли успешных сессий ко всем сессиям по дням за весь период наблюдения составляет {mean}\")"
   ]
  },
  {
   "cell_type": "code",
   "execution_count": 16,
   "metadata": {},
   "outputs": [
    {
     "data": {
      "image/png": "[encoded data removed]",
      "text/plain": [
       "<Figure size 720x432 with 1 Axes>"
      ]
     },
     "metadata": {
      "needs_background": "light"
     },
     "output_type": "display_data"
    }
   ],
   "source": [
    "plt.figure(figsize = (10, 6))\n",
    "sns.lineplot(data = good_sessions, x = 'session_date', y='good_sessions_share', label='Доля успешных сессий ко всем сессиям')\n",
    "plt.axhline(mean, color='red', linestyle='--', label=f'Среднее значение ({mean})')\n",
    "plt.title('Доля успешных сессий ко всем сессиям по дням за весь период наблюдения')\n",
    "plt.xlabel('Даты')\n",
    "plt.ylabel('Доля успешных сессий')\n",
    "plt.xticks(rotation=90)\n",
    "plt.show()"
   ]
  },
  {
   "cell_type": "markdown",
   "metadata": {},
   "source": [
    "Промежуточные выводы:\n",
    "1. С 10 сентября 2025 года наблюдается устойчивое нижение количества пользователей приложения: падение настолько резкое, что к концу рассматриваемого исторического периода количество всех пользователей сравнялось с количеством зарегистрированных пользователей. Возможно, стоит дополнительно посмотреть на изменения в поведении пользователей: что случилось в приложении? Были ли зафиксированы жалобы пользователей? При этом с этого же дня растет доля зарегистрированных пользователей, может быть, была проведена какакя-то акция для новых клиентов? \n",
    "2. Ключевая метрика эксперимета = количество успешных сессий, где более 4 страниц были открыты. Чаще всего пользователи открывают три страницы, на втором месте - сессий с двумя и четырьмя просмотрами. \n",
    "3. Среднее значение доли успешных сессий примерно 0.31, в последние дни периода доля успешных сессий ниже среднего. Но на фоне общего уменьшения пользователей приложения это явление объяснимо.  "
   ]
  },
  {
   "cell_type": "markdown",
   "metadata": {
    "id": "21JcG77Y0eMt"
   },
   "source": [
    "### 2. Подготовка к тесту\n",
    "При планировании теста необходимо проделать несколько важных шагов:\n",
    "\n",
    "- Определиться с целевой метрикой.\n",
    "\n",
    "- Рассчитать необходимый размер выборки.\n",
    "\n",
    "- Исходя из текущих значений трафика, рассчитать необходимую длительность проведения теста."
   ]
  },
  {
   "cell_type": "markdown",
   "metadata": {
    "id": "uzaeln270eMt"
   },
   "source": [
    "#### 2.1. Расчёт размера выборки\n",
    "Параметры:\n",
    "\n",
    "- Уровень значимости — 0.05.\n",
    "\n",
    "- Вероятность ошибки второго рода — 0.2.\n",
    "\n",
    "- Мощность теста.\n",
    "\n",
    "- Минимальный детектируемый эффект, или MDE, — 3%. "
   ]
  },
  {
   "cell_type": "code",
   "execution_count": 26,
   "metadata": {
    "id": "zSxJyPGPNdaI"
   },
   "outputs": [
    {
     "name": "stdout",
     "output_type": "stream",
     "text": [
      "Необходимый размер выборки для каждой группы: 17441\n"
     ]
    }
   ],
   "source": [
    "from statsmodels.stats.power import NormalIndPower\n",
    "\n",
    "alpha = 0.05 \n",
    "beta = 0.2  \n",
    "power = 0.8  \n",
    "mde = 0.03 \n",
    "\n",
    "power_analysis = NormalIndPower()\n",
    "\n",
    "\n",
    "sample_size = power_analysis.solve_power(\n",
    "    effect_size = mde,\n",
    "    power = power,\n",
    "    alpha = alpha,\n",
    "    ratio = 1 \n",
    ")\n",
    "\n",
    "print(f\"Необходимый размер выборки для каждой группы: {int(sample_size)}\")"
   ]
  },
  {
   "cell_type": "markdown",
   "metadata": {},
   "source": [
    "При анализе доли успешных сессий (4 просмотренных страниц и более) нам потребуется проанализировать поведение 34882 пользователей."
   ]
  },
  {
   "cell_type": "markdown",
   "metadata": {
    "id": "qLEv4RoV0eMu"
   },
   "source": [
    "#### 2.1. Расчёт длительности A/B-теста"
   ]
  },
  {
   "cell_type": "code",
   "execution_count": 29,
   "metadata": {
    "id": "KZDRbryDOGHa"
   },
   "outputs": [
    {
     "name": "stdout",
     "output_type": "stream",
     "text": [
      "Рассчитанная длительность A/B-теста при текущем уровене трафика в 9908 пользователей в день составит 4 дня\n"
     ]
    }
   ],
   "source": [
    "from math import ceil\n",
    "\n",
    "avg_daily_users = ceil(users_per_dates['unique_users_qty'].mean())\n",
    "test_duration = ceil(sample_size*2/avg_daily_users)\n",
    "\n",
    "print(f\"Рассчитанная длительность A/B-теста при текущем уровене трафика в {avg_daily_users} пользователей в день составит {test_duration} дня\")"
   ]
  },
  {
   "cell_type": "markdown",
   "metadata": {
    "id": "ZuvtAdha0eMv"
   },
   "source": [
    "### 3. Мониторинг А/В-теста"
   ]
  },
  {
   "cell_type": "markdown",
   "metadata": {
    "id": "jq5sE3Ya0eMv"
   },
   "source": [
    "#### 3.1. Проверка распределения пользователей\n",
    "\n",
    "A/B-тест успешно запущен, и уже доступны данные за первые три дня. На этом этапе нужно убедиться, что всё идёт хорошо: пользователи разделены правильным образом, а интересующие вас метрики корректно считаются.\n",
    "\n",
    "- Считайте и сохраните в датафрейм `sessions_test_part` CSV-файл с историческими данными о сессиях пользователей `sessions_project_test_part.csv`.\n",
    "\n",
    "- Рассчитайте количество уникальных пользователей в каждой из экспериментальных групп для одного дня наблюдения.\n",
    "\n",
    "- Рассчитайте и выведите на экран процентную разницу в количестве пользователей в группах A и B. Постройте любую удобную визуализацию, на которой можно было бы увидеть возможное различие двух групп.\n",
    "\n",
    "Для расчёта процентной разницы воспользуйтесь формулой:\n",
    "$$P = 100 \\cdot  \\frac{|A − B|}{A}$$"
   ]
  },
  {
   "cell_type": "code",
   "execution_count": 28,
   "metadata": {
    "id": "G1bqIzDJOUiz"
   },
   "outputs": [
    {
     "data": {
      "text/html": [
       "<div>\n",
       "<style scoped>\n",
       "    .dataframe tbody tr th:only-of-type {\n",
       "        vertical-align: middle;\n",
       "    }\n",
       "\n",
       "    .dataframe tbody tr th {\n",
       "        vertical-align: top;\n",
       "    }\n",
       "\n",
       "    .dataframe thead th {\n",
       "        text-align: right;\n",
       "    }\n",
       "</style>\n",
       "<table border=\"1\" class=\"dataframe\">\n",
       "  <thead>\n",
       "    <tr style=\"text-align: right;\">\n",
       "      <th></th>\n",
       "      <th>test_group</th>\n",
       "      <th>user_id</th>\n",
       "    </tr>\n",
       "  </thead>\n",
       "  <tbody>\n",
       "    <tr>\n",
       "      <th>0</th>\n",
       "      <td>A</td>\n",
       "      <td>1477</td>\n",
       "    </tr>\n",
       "    <tr>\n",
       "      <th>1</th>\n",
       "      <td>B</td>\n",
       "      <td>1466</td>\n",
       "    </tr>\n",
       "  </tbody>\n",
       "</table>\n",
       "</div>"
      ],
      "text/plain": [
       "  test_group  user_id\n",
       "0          A     1477\n",
       "1          B     1466"
      ]
     },
     "execution_count": 28,
     "metadata": {},
     "output_type": "execute_result"
    }
   ],
   "source": [
    "sessions_test_part = pd.read_csv('https://code.s3.yandex.net/datasets/sessions_project_test_part.csv')\n",
    "size = sessions_test_part.groupby('test_group')['user_id'].nunique().reset_index()\n",
    "size"
   ]
  },
  {
   "cell_type": "code",
   "execution_count": 20,
   "metadata": {},
   "outputs": [
    {
     "name": "stdout",
     "output_type": "stream",
     "text": [
      "Разница в количестве пользователей между группами A и B составляет 0.74%\n"
     ]
    }
   ],
   "source": [
    "a = 1477\n",
    "b = 1466\n",
    "p = 100*(a-b)/a\n",
    "print(f\"Разница в количестве пользователей между группами A и B составляет {round(p, 2)}%\")"
   ]
  },
  {
   "cell_type": "code",
   "execution_count": 21,
   "metadata": {},
   "outputs": [
    {
     "data": {
      "image/png": "[encoded data removed]",
      "text/plain": [
       "<Figure size 720x432 with 1 Axes>"
      ]
     },
     "metadata": {
      "needs_background": "light"
     },
     "output_type": "display_data"
    }
   ],
   "source": [
    "plt.figure(figsize = (10, 6))\n",
    "sns.barplot(data = size, x = 'test_group', y = 'user_id', label = 'Разница в количестве пользователей')\n",
    "plt.title('Разница в количестве пользователей между группами A и B')\n",
    "plt.xlabel('Группы')\n",
    "plt.ylabel('Количество пользователей')\n",
    "plt.show()"
   ]
  },
  {
   "cell_type": "markdown",
   "metadata": {
    "id": "sgpNY5bv0eM0"
   },
   "source": [
    "#### 3.2. Проверка пересечений пользователей"
   ]
  },
  {
   "cell_type": "code",
   "execution_count": 30,
   "metadata": {},
   "outputs": [
    {
     "data": {
      "image/png": "[encoded data removed]",
      "text/plain": [
       "<Figure size 640x480 with 1 Axes>"
      ]
     },
     "metadata": {},
     "output_type": "display_data"
    }
   ],
   "source": [
    "A = set(sessions_test_part[sessions_test_part['test_group'] == 'A']['user_id'])\n",
    "B = set(sessions_test_part[sessions_test_part['test_group'] == 'B']['user_id'])\n",
    "venn2([A, B], set_labels=('Группа А', 'Группа B'))\n",
    "plt.title(\"Пересечение групп пользователей:  A и B\")\n",
    "plt.show()"
   ]
  },
  {
   "cell_type": "markdown",
   "metadata": {
    "id": "6RvkNLrg0eM1"
   },
   "source": [
    "#### 3.3. Равномерность разделения пользователей по устройствам\n",
    "Полезно также убедиться в том, что пользователи равномерно распределены по всем доступным категориальным переменным — типам устройства и регионам.\n",
    "\n",
    "Постройте две диаграммы:\n",
    "\n",
    "- доля каждого типа устройства для пользователей из группы A,\n",
    "\n",
    "- доля каждого типа устройства для пользователей из группы B.\n",
    "\n",
    "Постарайтесь добавить на диаграммы все необходимые подписи, пояснения и заголовки, которые позволят сделать вывод о том, совпадает ли распределение устройств в группах A и B.\n"
   ]
  },
  {
   "cell_type": "code",
   "execution_count": 23,
   "metadata": {
    "id": "x_IP6PUNPWHC",
    "scrolled": true
   },
   "outputs": [
    {
     "data": {
      "text/html": [
       "<div>\n",
       "<style scoped>\n",
       "    .dataframe tbody tr th:only-of-type {\n",
       "        vertical-align: middle;\n",
       "    }\n",
       "\n",
       "    .dataframe tbody tr th {\n",
       "        vertical-align: top;\n",
       "    }\n",
       "\n",
       "    .dataframe thead th {\n",
       "        text-align: right;\n",
       "    }\n",
       "</style>\n",
       "<table border=\"1\" class=\"dataframe\">\n",
       "  <thead>\n",
       "    <tr style=\"text-align: right;\">\n",
       "      <th></th>\n",
       "      <th>device</th>\n",
       "      <th>user_id</th>\n",
       "      <th>total</th>\n",
       "      <th>share</th>\n",
       "    </tr>\n",
       "  </thead>\n",
       "  <tbody>\n",
       "    <tr>\n",
       "      <th>0</th>\n",
       "      <td>Mac</td>\n",
       "      <td>156</td>\n",
       "      <td>1477</td>\n",
       "      <td>0.11</td>\n",
       "    </tr>\n",
       "    <tr>\n",
       "      <th>1</th>\n",
       "      <td>iPhone</td>\n",
       "      <td>296</td>\n",
       "      <td>1477</td>\n",
       "      <td>0.20</td>\n",
       "    </tr>\n",
       "    <tr>\n",
       "      <th>2</th>\n",
       "      <td>PC</td>\n",
       "      <td>369</td>\n",
       "      <td>1477</td>\n",
       "      <td>0.25</td>\n",
       "    </tr>\n",
       "    <tr>\n",
       "      <th>3</th>\n",
       "      <td>Android</td>\n",
       "      <td>656</td>\n",
       "      <td>1477</td>\n",
       "      <td>0.44</td>\n",
       "    </tr>\n",
       "  </tbody>\n",
       "</table>\n",
       "</div>"
      ],
      "text/plain": [
       "    device  user_id  total  share\n",
       "0      Mac      156   1477   0.11\n",
       "1   iPhone      296   1477   0.20\n",
       "2       PC      369   1477   0.25\n",
       "3  Android      656   1477   0.44"
      ]
     },
     "execution_count": 23,
     "metadata": {},
     "output_type": "execute_result"
    }
   ],
   "source": [
    "devices_a = sessions_test_part[sessions_test_part['test_group'] == 'A'].groupby('device')['user_id'].nunique().sort_values().reset_index()\n",
    "devices_a['total'] = sessions_test_part[sessions_test_part['test_group'] == 'A']['user_id'].nunique()\n",
    "devices_a['share'] = round(devices_a['user_id']/devices_a['total'], 2)\n",
    "devices_a"
   ]
  },
  {
   "cell_type": "code",
   "execution_count": 24,
   "metadata": {},
   "outputs": [
    {
     "data": {
      "text/html": [
       "<div>\n",
       "<style scoped>\n",
       "    .dataframe tbody tr th:only-of-type {\n",
       "        vertical-align: middle;\n",
       "    }\n",
       "\n",
       "    .dataframe tbody tr th {\n",
       "        vertical-align: top;\n",
       "    }\n",
       "\n",
       "    .dataframe thead th {\n",
       "        text-align: right;\n",
       "    }\n",
       "</style>\n",
       "<table border=\"1\" class=\"dataframe\">\n",
       "  <thead>\n",
       "    <tr style=\"text-align: right;\">\n",
       "      <th></th>\n",
       "      <th>device</th>\n",
       "      <th>user_id</th>\n",
       "      <th>total</th>\n",
       "      <th>share</th>\n",
       "    </tr>\n",
       "  </thead>\n",
       "  <tbody>\n",
       "    <tr>\n",
       "      <th>0</th>\n",
       "      <td>Mac</td>\n",
       "      <td>148</td>\n",
       "      <td>1466</td>\n",
       "      <td>0.10</td>\n",
       "    </tr>\n",
       "    <tr>\n",
       "      <th>1</th>\n",
       "      <td>iPhone</td>\n",
       "      <td>269</td>\n",
       "      <td>1466</td>\n",
       "      <td>0.18</td>\n",
       "    </tr>\n",
       "    <tr>\n",
       "      <th>2</th>\n",
       "      <td>PC</td>\n",
       "      <td>381</td>\n",
       "      <td>1466</td>\n",
       "      <td>0.26</td>\n",
       "    </tr>\n",
       "    <tr>\n",
       "      <th>3</th>\n",
       "      <td>Android</td>\n",
       "      <td>668</td>\n",
       "      <td>1466</td>\n",
       "      <td>0.46</td>\n",
       "    </tr>\n",
       "  </tbody>\n",
       "</table>\n",
       "</div>"
      ],
      "text/plain": [
       "    device  user_id  total  share\n",
       "0      Mac      148   1466   0.10\n",
       "1   iPhone      269   1466   0.18\n",
       "2       PC      381   1466   0.26\n",
       "3  Android      668   1466   0.46"
      ]
     },
     "execution_count": 24,
     "metadata": {},
     "output_type": "execute_result"
    }
   ],
   "source": [
    "devices_b = sessions_test_part[sessions_test_part['test_group'] == 'B'].groupby('device')['user_id'].nunique().sort_values().reset_index()\n",
    "devices_b['total'] = sessions_test_part[sessions_test_part['test_group'] == 'B']['user_id'].nunique()\n",
    "devices_b['share'] = round(devices_b['user_id']/devices_b['total'], 2)\n",
    "devices_b"
   ]
  },
  {
   "cell_type": "code",
   "execution_count": 25,
   "metadata": {},
   "outputs": [
    {
     "data": {
      "image/png": "[encoded data removed]",
      "text/plain": [
       "<Figure size 864x432 with 2 Axes>"
      ]
     },
     "metadata": {},
     "output_type": "display_data"
    }
   ],
   "source": [
    "vals_a = devices_a['share']\n",
    "labels_a = devices_a['device']\n",
    "\n",
    "vals_b = devices_b['share']\n",
    "labels_b = devices_b['device']\n",
    "\n",
    "fig, axes = plt.subplots(1, 2, figsize=(12, 6)) \n",
    "\n",
    "axes[0].pie(vals_a, labels=labels_a, autopct='%1.1f%%')\n",
    "axes[0].set_title('Группа A')\n",
    "axes[0].axis('equal')\n",
    "\n",
    "# Вторая диаграмма (группа B)\n",
    "axes[1].pie(vals_b, labels=labels_b, autopct='%1.1f%%')\n",
    "axes[1].set_title('Группа B')\n",
    "axes[1].axis('equal')\n",
    "\n",
    "plt.suptitle('Сравнение распределения устройств между группами A и B', fontsize=16)\n",
    "plt.tight_layout()\n",
    "plt.show()"
   ]
  },
  {
   "cell_type": "markdown",
   "metadata": {
    "id": "gAgmP6vo0eM1"
   },
   "source": [
    "#### 3.4. Равномерность распределения пользователей по регионам"
   ]
  },
  {
   "cell_type": "code",
   "execution_count": 31,
   "metadata": {
    "id": "3hAq-FG4OdYM"
   },
   "outputs": [
    {
     "data": {
      "text/html": [
       "<div>\n",
       "<style scoped>\n",
       "    .dataframe tbody tr th:only-of-type {\n",
       "        vertical-align: middle;\n",
       "    }\n",
       "\n",
       "    .dataframe tbody tr th {\n",
       "        vertical-align: top;\n",
       "    }\n",
       "\n",
       "    .dataframe thead th {\n",
       "        text-align: right;\n",
       "    }\n",
       "</style>\n",
       "<table border=\"1\" class=\"dataframe\">\n",
       "  <thead>\n",
       "    <tr style=\"text-align: right;\">\n",
       "      <th></th>\n",
       "      <th>region</th>\n",
       "      <th>user_id</th>\n",
       "      <th>total</th>\n",
       "      <th>share</th>\n",
       "    </tr>\n",
       "  </thead>\n",
       "  <tbody>\n",
       "    <tr>\n",
       "      <th>0</th>\n",
       "      <td>CIS</td>\n",
       "      <td>644</td>\n",
       "      <td>1477</td>\n",
       "      <td>0.44</td>\n",
       "    </tr>\n",
       "    <tr>\n",
       "      <th>1</th>\n",
       "      <td>EU</td>\n",
       "      <td>224</td>\n",
       "      <td>1477</td>\n",
       "      <td>0.15</td>\n",
       "    </tr>\n",
       "    <tr>\n",
       "      <th>2</th>\n",
       "      <td>MENA</td>\n",
       "      <td>609</td>\n",
       "      <td>1477</td>\n",
       "      <td>0.41</td>\n",
       "    </tr>\n",
       "  </tbody>\n",
       "</table>\n",
       "</div>"
      ],
      "text/plain": [
       "  region  user_id  total  share\n",
       "0    CIS      644   1477   0.44\n",
       "1     EU      224   1477   0.15\n",
       "2   MENA      609   1477   0.41"
      ]
     },
     "execution_count": 31,
     "metadata": {},
     "output_type": "execute_result"
    }
   ],
   "source": [
    "regions_a = sessions_test_part[sessions_test_part['test_group'] == 'A'].groupby('region')['user_id'].nunique().reset_index()\n",
    "regions_a['total'] = sessions_test_part[sessions_test_part['test_group'] == 'A']['user_id'].nunique()\n",
    "regions_a['share'] = round(regions_a['user_id']/regions_a['total'], 2)\n",
    "regions_a"
   ]
  },
  {
   "cell_type": "code",
   "execution_count": 32,
   "metadata": {},
   "outputs": [
    {
     "data": {
      "text/html": [
       "<div>\n",
       "<style scoped>\n",
       "    .dataframe tbody tr th:only-of-type {\n",
       "        vertical-align: middle;\n",
       "    }\n",
       "\n",
       "    .dataframe tbody tr th {\n",
       "        vertical-align: top;\n",
       "    }\n",
       "\n",
       "    .dataframe thead th {\n",
       "        text-align: right;\n",
       "    }\n",
       "</style>\n",
       "<table border=\"1\" class=\"dataframe\">\n",
       "  <thead>\n",
       "    <tr style=\"text-align: right;\">\n",
       "      <th></th>\n",
       "      <th>region</th>\n",
       "      <th>user_id</th>\n",
       "      <th>total</th>\n",
       "      <th>share</th>\n",
       "    </tr>\n",
       "  </thead>\n",
       "  <tbody>\n",
       "    <tr>\n",
       "      <th>0</th>\n",
       "      <td>CIS</td>\n",
       "      <td>645</td>\n",
       "      <td>1466</td>\n",
       "      <td>0.44</td>\n",
       "    </tr>\n",
       "    <tr>\n",
       "      <th>1</th>\n",
       "      <td>EU</td>\n",
       "      <td>217</td>\n",
       "      <td>1466</td>\n",
       "      <td>0.15</td>\n",
       "    </tr>\n",
       "    <tr>\n",
       "      <th>2</th>\n",
       "      <td>MENA</td>\n",
       "      <td>604</td>\n",
       "      <td>1466</td>\n",
       "      <td>0.41</td>\n",
       "    </tr>\n",
       "  </tbody>\n",
       "</table>\n",
       "</div>"
      ],
      "text/plain": [
       "  region  user_id  total  share\n",
       "0    CIS      645   1466   0.44\n",
       "1     EU      217   1466   0.15\n",
       "2   MENA      604   1466   0.41"
      ]
     },
     "execution_count": 32,
     "metadata": {},
     "output_type": "execute_result"
    }
   ],
   "source": [
    "regions_b = sessions_test_part[sessions_test_part['test_group'] == 'B'].groupby('region')['user_id'].nunique().reset_index()\n",
    "regions_b['total'] = sessions_test_part[sessions_test_part['test_group'] == 'B']['user_id'].nunique()\n",
    "regions_b['share'] = round(regions_b['user_id']/regions_b['total'], 2)\n",
    "regions_b"
   ]
  },
  {
   "cell_type": "code",
   "execution_count": 33,
   "metadata": {},
   "outputs": [
    {
     "data": {
      "image/png": "[encoded data removed]",
      "text/plain": [
       "<Figure size 1200x600 with 2 Axes>"
      ]
     },
     "metadata": {},
     "output_type": "display_data"
    }
   ],
   "source": [
    "vals_A = regions_a['share']\n",
    "labels_A = regions_a['region']\n",
    "\n",
    "vals_B = regions_b['share']\n",
    "labels_B = regions_b['region']\n",
    "\n",
    "fig, axes = plt.subplots(1, 2, figsize=(12, 6)) \n",
    "\n",
    "axes[0].pie(vals_A, labels=labels_A, autopct='%1.1f%%')\n",
    "axes[0].set_title('Группа A')\n",
    "axes[0].axis('equal')\n",
    "\n",
    "# Вторая диаграмма (группа B)\n",
    "axes[1].pie(vals_B, labels=labels_B, autopct='%1.1f%%')\n",
    "axes[1].set_title('Группа B')\n",
    "axes[1].axis('equal')\n",
    "\n",
    "plt.suptitle('Сравнение распределения регионов между группами A и B', fontsize=16)\n",
    "plt.tight_layout()\n",
    "plt.show()"
   ]
  },
  {
   "cell_type": "markdown",
   "metadata": {
    "id": "X2WSZ-sDrSUi"
   },
   "source": [
    "#### 3.5. Вывод после проверки A/B-теста"
   ]
  },
  {
   "cell_type": "markdown",
   "metadata": {
    "id": "dDELHlAcOi8d"
   },
   "source": [
    "Выводы:\n",
    "1. Было обнаружено небольшое различие между группами, в А - 1477, в B - 1466, но в процентном отношении разница составляет менее 1, поэтому этой разницей можно пренебречь.\n",
    "2. Выборки пользователей не пересекаются. \n",
    "3. Распределение тестовых групп в разрезе устройств равномерно, разница между ними не превышает 2%.\n",
    "4. По регионам также соблюдается принцип равномерного распределения, расхождений нет. "
   ]
  },
  {
   "cell_type": "markdown",
   "metadata": {},
   "source": [
    "<div class=\"alert alert-block alert-info\">\n",
    "Поправила.\n",
    "</div>"
   ]
  },
  {
   "cell_type": "markdown",
   "metadata": {
    "id": "nudRr_BQ0eM2"
   },
   "source": [
    "### 4. Проверка результатов A/B-теста"
   ]
  },
  {
   "cell_type": "markdown",
   "metadata": {
    "id": "JVve-YBB0eM2"
   },
   "source": [
    "#### 4.1. Получение результатов теста и подсчёт основной метрики"
   ]
  },
  {
   "cell_type": "code",
   "execution_count": 34,
   "metadata": {
    "id": "EqRlwMtKPTir"
   },
   "outputs": [
    {
     "data": {
      "text/html": [
       "<div>\n",
       "<style scoped>\n",
       "    .dataframe tbody tr th:only-of-type {\n",
       "        vertical-align: middle;\n",
       "    }\n",
       "\n",
       "    .dataframe tbody tr th {\n",
       "        vertical-align: top;\n",
       "    }\n",
       "\n",
       "    .dataframe thead th {\n",
       "        text-align: right;\n",
       "    }\n",
       "</style>\n",
       "<table border=\"1\" class=\"dataframe\">\n",
       "  <thead>\n",
       "    <tr style=\"text-align: right;\">\n",
       "      <th></th>\n",
       "      <th>user_id</th>\n",
       "      <th>session_id</th>\n",
       "      <th>session_date</th>\n",
       "      <th>session_start_ts</th>\n",
       "      <th>install_date</th>\n",
       "      <th>session_number</th>\n",
       "      <th>registration_flag</th>\n",
       "      <th>page_counter</th>\n",
       "      <th>region</th>\n",
       "      <th>device</th>\n",
       "      <th>test_group</th>\n",
       "      <th>good_session</th>\n",
       "    </tr>\n",
       "  </thead>\n",
       "  <tbody>\n",
       "    <tr>\n",
       "      <th>0</th>\n",
       "      <td>6DAE3B3654DA738E</td>\n",
       "      <td>C69249E26E58F6E2</td>\n",
       "      <td>2025-10-26</td>\n",
       "      <td>2025-10-26 18:15:05</td>\n",
       "      <td>2025-10-16</td>\n",
       "      <td>3</td>\n",
       "      <td>0</td>\n",
       "      <td>3</td>\n",
       "      <td>MENA</td>\n",
       "      <td>Android</td>\n",
       "      <td>A</td>\n",
       "      <td>0</td>\n",
       "    </tr>\n",
       "    <tr>\n",
       "      <th>1</th>\n",
       "      <td>0A3FE5D1DD59110A</td>\n",
       "      <td>66D66D7C9F5181B7</td>\n",
       "      <td>2025-10-21</td>\n",
       "      <td>2025-10-21 17:04:53</td>\n",
       "      <td>2025-10-15</td>\n",
       "      <td>2</td>\n",
       "      <td>1</td>\n",
       "      <td>2</td>\n",
       "      <td>CIS</td>\n",
       "      <td>Android</td>\n",
       "      <td>B</td>\n",
       "      <td>0</td>\n",
       "    </tr>\n",
       "    <tr>\n",
       "      <th>2</th>\n",
       "      <td>2041F1D7AA740B88</td>\n",
       "      <td>50DE51D42215E74C</td>\n",
       "      <td>2025-10-23</td>\n",
       "      <td>2025-10-23 17:39:29</td>\n",
       "      <td>2025-10-19</td>\n",
       "      <td>3</td>\n",
       "      <td>0</td>\n",
       "      <td>2</td>\n",
       "      <td>MENA</td>\n",
       "      <td>Android</td>\n",
       "      <td>A</td>\n",
       "      <td>0</td>\n",
       "    </tr>\n",
       "    <tr>\n",
       "      <th>3</th>\n",
       "      <td>43D7585009168086</td>\n",
       "      <td>5763C0C353C22263</td>\n",
       "      <td>2025-10-24</td>\n",
       "      <td>2025-10-24 15:01:57</td>\n",
       "      <td>2025-10-18</td>\n",
       "      <td>4</td>\n",
       "      <td>0</td>\n",
       "      <td>1</td>\n",
       "      <td>CIS</td>\n",
       "      <td>iPhone</td>\n",
       "      <td>B</td>\n",
       "      <td>0</td>\n",
       "    </tr>\n",
       "    <tr>\n",
       "      <th>4</th>\n",
       "      <td>15AD68B14D62D88C</td>\n",
       "      <td>B1AD09F93C1053BC</td>\n",
       "      <td>2025-10-17</td>\n",
       "      <td>2025-10-17 17:34:39</td>\n",
       "      <td>2025-10-17</td>\n",
       "      <td>1</td>\n",
       "      <td>0</td>\n",
       "      <td>2</td>\n",
       "      <td>MENA</td>\n",
       "      <td>Android</td>\n",
       "      <td>B</td>\n",
       "      <td>0</td>\n",
       "    </tr>\n",
       "  </tbody>\n",
       "</table>\n",
       "</div>"
      ],
      "text/plain": [
       "            user_id        session_id session_date     session_start_ts  \\\n",
       "0  6DAE3B3654DA738E  C69249E26E58F6E2   2025-10-26  2025-10-26 18:15:05   \n",
       "1  0A3FE5D1DD59110A  66D66D7C9F5181B7   2025-10-21  2025-10-21 17:04:53   \n",
       "2  2041F1D7AA740B88  50DE51D42215E74C   2025-10-23  2025-10-23 17:39:29   \n",
       "3  43D7585009168086  5763C0C353C22263   2025-10-24  2025-10-24 15:01:57   \n",
       "4  15AD68B14D62D88C  B1AD09F93C1053BC   2025-10-17  2025-10-17 17:34:39   \n",
       "\n",
       "  install_date  session_number  registration_flag  page_counter region  \\\n",
       "0   2025-10-16               3                  0             3   MENA   \n",
       "1   2025-10-15               2                  1             2    CIS   \n",
       "2   2025-10-19               3                  0             2   MENA   \n",
       "3   2025-10-18               4                  0             1    CIS   \n",
       "4   2025-10-17               1                  0             2   MENA   \n",
       "\n",
       "    device test_group  good_session  \n",
       "0  Android          A             0  \n",
       "1  Android          B             0  \n",
       "2  Android          A             0  \n",
       "3   iPhone          B             0  \n",
       "4  Android          B             0  "
      ]
     },
     "execution_count": 34,
     "metadata": {},
     "output_type": "execute_result"
    }
   ],
   "source": [
    "sessions_test = pd.read_csv('https://code.s3.yandex.net/datasets/sessions_project_test.csv')\n",
    "sessions_test['good_session'] = sessions_test['page_counter'].apply(lambda x: 1 if x>= 4 else 0)\n",
    "sessions_test.head()"
   ]
  },
  {
   "cell_type": "markdown",
   "metadata": {
    "id": "aeYhrMYy0eM2"
   },
   "source": [
    "#### 4.2. Проверка корректности результатов теста"
   ]
  },
  {
   "cell_type": "markdown",
   "metadata": {},
   "source": [
    "Нулевая гипотеза: различий в количестве сессий по дням между  группами нет\n",
    "\n",
    "Альтернативная гипотеза: между группами количество сессий не равное"
   ]
  },
  {
   "cell_type": "code",
   "execution_count": 35,
   "metadata": {
    "id": "5NUlcltkTTSU"
   },
   "outputs": [
    {
     "data": {
      "text/plain": [
       "session_date  test_group\n",
       "2025-10-14    A             1502\n",
       "              B             1628\n",
       "2025-10-15    A             2235\n",
       "              B             2283\n",
       "2025-10-16    A             3280\n",
       "              B             3241\n",
       "2025-10-17    A             4089\n",
       "              B             4054\n",
       "2025-10-18    A             5013\n",
       "              B             5059\n",
       "2025-10-19    A             6535\n",
       "              B             6779\n",
       "2025-10-20    A             5837\n",
       "              B             6089\n",
       "2025-10-21    A             3927\n",
       "              B             3981\n",
       "2025-10-22    A             3083\n",
       "              B             3111\n",
       "2025-10-23    A             2470\n",
       "              B             2548\n",
       "2025-10-24    A             2090\n",
       "              B             2068\n",
       "2025-10-25    A             1897\n",
       "              B             1814\n",
       "2025-10-26    A             1669\n",
       "              B             1692\n",
       "2025-10-27    A             1454\n",
       "              B             1517\n",
       "2025-10-28    A             1279\n",
       "              B             1289\n",
       "2025-10-29    A             1068\n",
       "              B             1131\n",
       "2025-10-30    A              887\n",
       "              B              876\n",
       "2025-10-31    A              644\n",
       "              B              669\n",
       "2025-11-01    A              434\n",
       "              B              465\n",
       "2025-11-02    A              158\n",
       "              B              160\n",
       "Name: session_id, dtype: int64"
      ]
     },
     "execution_count": 35,
     "metadata": {},
     "output_type": "execute_result"
    }
   ],
   "source": [
    "sessions_test.groupby(['session_date', 'test_group'])['session_id'].nunique()"
   ]
  },
  {
   "cell_type": "markdown",
   "metadata": {},
   "source": [
    "Поскольку между группами есть незначительное различие в разрезе распределения по устройствам, я решила провести тест Уэлча. "
   ]
  },
  {
   "cell_type": "code",
   "execution_count": 36,
   "metadata": {},
   "outputs": [
    {
     "data": {
      "text/plain": [
       "0.9382195854082714"
      ]
     },
     "execution_count": 36,
     "metadata": {},
     "output_type": "execute_result"
    }
   ],
   "source": [
    "from scipy import stats as st\n",
    "\n",
    "a_group = sessions_test[sessions_test['test_group'] == 'A'].groupby('session_date')['session_id'].nunique()\n",
    "b_group = sessions_test[sessions_test['test_group'] == 'B'].groupby('session_date')['session_id'].nunique()\n",
    "\n",
    "results = st.ttest_ind(\n",
    "    a_group,\n",
    "    b_group,\n",
    "    equal_var=False,\n",
    "    alternative='two-sided') \n",
    "p_value = results.pvalue\n",
    "p_value\n"
   ]
  },
  {
   "cell_type": "markdown",
   "metadata": {},
   "source": [
    "Полученное значение p_value = 0.9382195854082714. Критический уровень alpha = 0.05.\n",
    "\n",
    "p_value значительно больше alpha, значит, нулевая гипотеза верна: разницы между двумя тестовыми группами практически нет. "
   ]
  },
  {
   "cell_type": "markdown",
   "metadata": {
    "id": "7kwRxzg70eM3"
   },
   "source": [
    "#### 4.3. Сравнение доли успешных сессий"
   ]
  },
  {
   "cell_type": "code",
   "execution_count": 37,
   "metadata": {
    "id": "Uku-V1CpPRCz",
    "scrolled": true
   },
   "outputs": [
    {
     "data": {
      "text/html": [
       "<div>\n",
       "<style scoped>\n",
       "    .dataframe tbody tr th:only-of-type {\n",
       "        vertical-align: middle;\n",
       "    }\n",
       "\n",
       "    .dataframe tbody tr th {\n",
       "        vertical-align: top;\n",
       "    }\n",
       "\n",
       "    .dataframe thead th {\n",
       "        text-align: right;\n",
       "    }\n",
       "</style>\n",
       "<table border=\"1\" class=\"dataframe\">\n",
       "  <thead>\n",
       "    <tr style=\"text-align: right;\">\n",
       "      <th></th>\n",
       "      <th>test_group</th>\n",
       "      <th>good_session_qty</th>\n",
       "      <th>all_sessions_qty</th>\n",
       "      <th>perc_of_success</th>\n",
       "    </tr>\n",
       "  </thead>\n",
       "  <tbody>\n",
       "    <tr>\n",
       "      <th>0</th>\n",
       "      <td>A</td>\n",
       "      <td>15248</td>\n",
       "      <td>49551</td>\n",
       "      <td>30.77</td>\n",
       "    </tr>\n",
       "    <tr>\n",
       "      <th>1</th>\n",
       "      <td>B</td>\n",
       "      <td>16059</td>\n",
       "      <td>50454</td>\n",
       "      <td>31.83</td>\n",
       "    </tr>\n",
       "  </tbody>\n",
       "</table>\n",
       "</div>"
      ],
      "text/plain": [
       "  test_group  good_session_qty  all_sessions_qty  perc_of_success\n",
       "0          A             15248             49551            30.77\n",
       "1          B             16059             50454            31.83"
      ]
     },
     "execution_count": 37,
     "metadata": {},
     "output_type": "execute_result"
    }
   ],
   "source": [
    "good = sessions_test[sessions_test['good_session'] == 1].groupby('test_group')['good_session'].sum().reset_index()\n",
    "test = sessions_test.groupby('test_group')['session_id'].nunique().reset_index()\n",
    "total = good.merge(test, on = 'test_group')\n",
    "total['perc_of_success'] = round(total['good_session']/total['session_id']*100, 2)\n",
    "total = total.rename(columns = {'good_session': 'good_session_qty',\n",
    "                                         'session_id': 'all_sessions_qty'})\n",
    "total"
   ]
  },
  {
   "cell_type": "code",
   "execution_count": 38,
   "metadata": {},
   "outputs": [
    {
     "name": "stdout",
     "output_type": "stream",
     "text": [
      "В процентном отношении разница в количестве успешных сессий между двумя группами составляет приблизительно 1.1%\n"
     ]
    }
   ],
   "source": [
    "a = total[total['test_group'] == 'A']['perc_of_success'].iloc[0]\n",
    "b = total[total['test_group'] == 'B']['perc_of_success'].iloc[0]\n",
    "difference = b-a\n",
    "print(f\"В процентном отношении разница в количестве успешных сессий между двумя группами составляет приблизительно {round(difference, 1)}%\")"
   ]
  },
  {
   "cell_type": "markdown",
   "metadata": {
    "id": "9fMFuja10eM4"
   },
   "source": [
    "#### 4.4. Насколько статистически значимо изменение ключевой метрики"
   ]
  },
  {
   "cell_type": "markdown",
   "metadata": {},
   "source": [
    "Нулевая гипотеза: изменений нет\n",
    "\n",
    "Альтернативная: В группе В доля успешных сессий больше"
   ]
  },
  {
   "cell_type": "markdown",
   "metadata": {},
   "source": [
    "Поскольку в контрольных группах я буду сравнивать доли успешных сессий, я выбрала z-тест пропорций."
   ]
  },
  {
   "cell_type": "code",
   "execution_count": 39,
   "metadata": {},
   "outputs": [
    {
     "name": "stdout",
     "output_type": "stream",
     "text": [
      "pvalue=0.00015747399880361237 < 0.05\n",
      "Нулевая гипотеза не находит подтверждения!\n"
     ]
    }
   ],
   "source": [
    "from statsmodels.stats.proportion import proportions_ztest\n",
    "\n",
    "n_a, n_b = 49551, 50454 \n",
    "m_a, m_b = 15248, 16059 \n",
    "\n",
    "alpha = 0.05 \n",
    "\n",
    "stat_ztest, p_value_ztest = proportions_ztest(\n",
    "    [m_a, m_b],\n",
    "    [n_a, n_b],\n",
    "    alternative='smaller' \n",
    ")\n",
    "p_value_ztest\n",
    "\n",
    "\n",
    "if p_value_ztest > alpha:\n",
    "    print(f'pvalue={p_value_ztest} > {alpha}')\n",
    "    print('Нулевая гипотеза находит подтверждение!')\n",
    "else:\n",
    "    print(f'pvalue={p_value_ztest} < {alpha}')\n",
    "    print('Нулевая гипотеза не находит подтверждения!')"
   ]
  },
  {
   "cell_type": "markdown",
   "metadata": {
    "id": "GnJrkY9Q63zS"
   },
   "source": [
    "#### 4.5. Вывод по результатам A/B-эксперимента\n"
   ]
  },
  {
   "cell_type": "markdown",
   "metadata": {},
   "source": [
    "1. 2025-10-14 начался А/В эксперимент, который длился 20 дней по 2025-11-02. В ходе эксперимента пользователи приложения были разделены на 2 практически равные группы по 1477 и 1466 человек соответственно. Группы не пересекались, распределение по используемым устройствам внутри каждой группы почти одинаковое, распределение по регионам идентичное в обеих группах. \n",
    "2. Новый алгоритм положительно повлиял на ключевую метрику: доля успешных сессий (более 4 просмотренных страниц за одно посещение) в контрольной группе В больше приблизительно на 1.1%, чем в группе, которая не видела нового алгоритма. Кажется, что это изменение небольшое, но при оценке этого изменения статистическим тестом (Z-тест) выяснилось, что это изменение значимо. \n",
    "3. Полученный pvalue=0.0001574739988036123, что меньше установленного уровня значимости (0.05). \n",
    "4. Нулевая гипотеза не находит подтверждения, можно утверждать, что новый алгоритм, который видела только группа В, положительно влияет на рост ключевой метрики. Можно рекомендовать введение нового алгоритма для всей целевой аудитории. "
   ]
  }
 ],
 "metadata": {
  "ExecuteTimeLog": [
   {
    "duration": 1338,
    "start_time": "2025-05-02T05:56:49.138Z"
   },
   {
    "duration": 188,
    "start_time": "2025-05-02T06:13:25.260Z"
   },
   {
    "duration": 2037,
    "start_time": "2025-05-02T06:14:03.799Z"
   },
   {
    "duration": 16,
    "start_time": "2025-05-02T06:14:23.180Z"
   },
   {
    "duration": 574,
    "start_time": "2025-05-02T06:15:34.268Z"
   },
   {
    "duration": 564,
    "start_time": "2025-05-02T06:15:43.483Z"
   },
   {
    "duration": 591,
    "start_time": "2025-05-02T06:15:51.943Z"
   },
   {
    "duration": 566,
    "start_time": "2025-05-02T06:18:32.513Z"
   },
   {
    "duration": 552,
    "start_time": "2025-05-02T06:19:03.299Z"
   },
   {
    "duration": 573,
    "start_time": "2025-05-02T06:19:09.898Z"
   },
   {
    "duration": 57,
    "start_time": "2025-05-02T06:19:59.565Z"
   },
   {
    "duration": 41,
    "start_time": "2025-05-02T06:20:09.146Z"
   },
   {
    "duration": 189,
    "start_time": "2025-05-02T06:30:27.735Z"
   },
   {
    "duration": 204,
    "start_time": "2025-05-02T06:32:24.175Z"
   },
   {
    "duration": 42,
    "start_time": "2025-05-02T06:33:52.814Z"
   },
   {
    "duration": 196,
    "start_time": "2025-05-02T06:35:35.169Z"
   },
   {
    "duration": 204,
    "start_time": "2025-05-02T06:36:01.116Z"
   },
   {
    "duration": 219,
    "start_time": "2025-05-02T06:36:13.197Z"
   },
   {
    "duration": 44,
    "start_time": "2025-05-02T06:36:42.689Z"
   },
   {
    "duration": 1430,
    "start_time": "2025-05-02T06:44:08.551Z"
   },
   {
    "duration": 184,
    "start_time": "2025-05-02T06:45:08.705Z"
   },
   {
    "duration": 179,
    "start_time": "2025-05-02T06:45:40.966Z"
   },
   {
    "duration": 187,
    "start_time": "2025-05-02T06:45:47.046Z"
   },
   {
    "duration": 188,
    "start_time": "2025-05-02T06:45:51.677Z"
   },
   {
    "duration": 44,
    "start_time": "2025-05-02T06:46:45.411Z"
   },
   {
    "duration": 25,
    "start_time": "2025-05-02T06:47:12.030Z"
   },
   {
    "duration": 13,
    "start_time": "2025-05-02T06:48:21.378Z"
   },
   {
    "duration": 15,
    "start_time": "2025-05-02T06:48:37.248Z"
   },
   {
    "duration": 13,
    "start_time": "2025-05-02T06:48:44.179Z"
   },
   {
    "duration": 13,
    "start_time": "2025-05-02T06:48:54.769Z"
   },
   {
    "duration": 25,
    "start_time": "2025-05-02T06:49:08.847Z"
   },
   {
    "duration": 13,
    "start_time": "2025-05-02T06:49:29.863Z"
   },
   {
    "duration": 9,
    "start_time": "2025-05-02T07:13:52.065Z"
   },
   {
    "duration": 15,
    "start_time": "2025-05-02T07:16:13.136Z"
   },
   {
    "duration": 31,
    "start_time": "2025-05-02T07:16:27.568Z"
   },
   {
    "duration": 26,
    "start_time": "2025-05-02T07:18:09.185Z"
   },
   {
    "duration": 67,
    "start_time": "2025-05-02T07:20:00.422Z"
   },
   {
    "duration": 1210,
    "start_time": "2025-05-02T07:20:09.049Z"
   },
   {
    "duration": 181,
    "start_time": "2025-05-02T07:20:32.072Z"
   },
   {
    "duration": 180,
    "start_time": "2025-05-02T07:20:39.302Z"
   },
   {
    "duration": 202,
    "start_time": "2025-05-02T07:21:43.061Z"
   },
   {
    "duration": 185,
    "start_time": "2025-05-02T07:24:35.143Z"
   },
   {
    "duration": 220,
    "start_time": "2025-05-02T07:24:47.354Z"
   },
   {
    "duration": 265,
    "start_time": "2025-05-02T07:25:06.319Z"
   },
   {
    "duration": 874,
    "start_time": "2025-05-02T07:25:40.886Z"
   },
   {
    "duration": 616,
    "start_time": "2025-05-02T07:25:58.454Z"
   },
   {
    "duration": 681,
    "start_time": "2025-05-02T07:26:44.974Z"
   },
   {
    "duration": 702,
    "start_time": "2025-05-02T07:27:03.274Z"
   },
   {
    "duration": 626,
    "start_time": "2025-05-02T07:27:36.196Z"
   },
   {
    "duration": 600,
    "start_time": "2025-05-02T07:30:54.564Z"
   },
   {
    "duration": 559,
    "start_time": "2025-05-02T07:31:23.366Z"
   },
   {
    "duration": 558,
    "start_time": "2025-05-02T07:32:06.081Z"
   },
   {
    "duration": 179,
    "start_time": "2025-05-02T07:32:20.452Z"
   },
   {
    "duration": 37,
    "start_time": "2025-05-02T07:32:21.406Z"
   },
   {
    "duration": 13,
    "start_time": "2025-05-02T07:32:22.160Z"
   },
   {
    "duration": 643,
    "start_time": "2025-05-02T07:32:37.209Z"
   },
   {
    "duration": 559,
    "start_time": "2025-05-02T07:33:45.456Z"
   },
   {
    "duration": 35,
    "start_time": "2025-05-02T07:46:01.326Z"
   },
   {
    "duration": 30,
    "start_time": "2025-05-02T07:46:08.612Z"
   },
   {
    "duration": 33,
    "start_time": "2025-05-02T07:46:39.454Z"
   },
   {
    "duration": 33,
    "start_time": "2025-05-02T07:47:15.578Z"
   },
   {
    "duration": 31,
    "start_time": "2025-05-02T07:47:24.511Z"
   },
   {
    "duration": 30,
    "start_time": "2025-05-02T07:47:52.713Z"
   },
   {
    "duration": 204,
    "start_time": "2025-05-02T07:51:31.818Z"
   },
   {
    "duration": 187,
    "start_time": "2025-05-02T07:51:38.929Z"
   },
   {
    "duration": 281,
    "start_time": "2025-05-02T07:52:21.240Z"
   },
   {
    "duration": 160,
    "start_time": "2025-05-02T07:57:14.482Z"
   },
   {
    "duration": 13,
    "start_time": "2025-05-02T07:59:46.943Z"
   },
   {
    "duration": 10,
    "start_time": "2025-05-02T08:00:02.487Z"
   },
   {
    "duration": 10,
    "start_time": "2025-05-02T08:00:48.500Z"
   },
   {
    "duration": 18,
    "start_time": "2025-05-02T08:01:19.632Z"
   },
   {
    "duration": 55,
    "start_time": "2025-05-02T08:01:30.086Z"
   },
   {
    "duration": 53,
    "start_time": "2025-05-02T08:01:43.381Z"
   },
   {
    "duration": 178,
    "start_time": "2025-05-02T08:02:36.733Z"
   },
   {
    "duration": 62,
    "start_time": "2025-05-02T08:02:37.311Z"
   },
   {
    "duration": 56,
    "start_time": "2025-05-02T08:02:44.746Z"
   },
   {
    "duration": 1368,
    "start_time": "2025-05-05T08:06:40.719Z"
   },
   {
    "duration": 2138,
    "start_time": "2025-05-05T08:06:42.089Z"
   },
   {
    "duration": 15,
    "start_time": "2025-05-05T08:06:44.228Z"
   },
   {
    "duration": 590,
    "start_time": "2025-05-05T08:06:44.245Z"
   },
   {
    "duration": 56,
    "start_time": "2025-05-05T08:06:44.837Z"
   },
   {
    "duration": 182,
    "start_time": "2025-05-05T08:06:44.895Z"
   },
   {
    "duration": 40,
    "start_time": "2025-05-05T08:06:45.086Z"
   },
   {
    "duration": 21,
    "start_time": "2025-05-05T08:06:45.127Z"
   },
   {
    "duration": 631,
    "start_time": "2025-05-05T08:06:45.150Z"
   },
   {
    "duration": 614,
    "start_time": "2025-05-05T08:06:45.784Z"
   },
   {
    "duration": 37,
    "start_time": "2025-05-05T08:06:46.400Z"
   },
   {
    "duration": 205,
    "start_time": "2025-05-05T08:06:46.439Z"
   },
   {
    "duration": 171,
    "start_time": "2025-05-05T08:06:46.646Z"
   },
   {
    "duration": 66,
    "start_time": "2025-05-05T08:06:46.820Z"
   },
   {
    "duration": 121,
    "start_time": "2025-05-05T08:06:46.888Z"
   },
   {
    "duration": 0,
    "start_time": "2025-05-05T08:06:47.011Z"
   },
   {
    "duration": 49,
    "start_time": "2025-05-05T08:16:18.634Z"
   },
   {
    "duration": 50,
    "start_time": "2025-05-05T08:16:44.718Z"
   },
   {
    "duration": 49,
    "start_time": "2025-05-05T08:17:35.960Z"
   },
   {
    "duration": 51,
    "start_time": "2025-05-05T08:17:45.805Z"
   },
   {
    "duration": 9,
    "start_time": "2025-05-05T08:30:17.299Z"
   },
   {
    "duration": 8,
    "start_time": "2025-05-05T08:30:34.850Z"
   },
   {
    "duration": 460,
    "start_time": "2025-05-05T08:30:51.735Z"
   },
   {
    "duration": 470,
    "start_time": "2025-05-05T08:32:03.268Z"
   },
   {
    "duration": 536,
    "start_time": "2025-05-05T08:32:21.655Z"
   },
   {
    "duration": 16,
    "start_time": "2025-05-05T08:40:33.003Z"
   },
   {
    "duration": 9,
    "start_time": "2025-05-05T09:09:36.602Z"
   },
   {
    "duration": 10,
    "start_time": "2025-05-05T09:09:47.559Z"
   },
   {
    "duration": 12,
    "start_time": "2025-05-05T09:10:03.787Z"
   },
   {
    "duration": 4,
    "start_time": "2025-05-05T09:10:48.711Z"
   },
   {
    "duration": 4,
    "start_time": "2025-05-05T09:10:54.358Z"
   },
   {
    "duration": 4,
    "start_time": "2025-05-05T09:11:45.234Z"
   },
   {
    "duration": 4,
    "start_time": "2025-05-05T09:11:51.049Z"
   },
   {
    "duration": 4,
    "start_time": "2025-05-05T09:12:01.223Z"
   },
   {
    "duration": 4,
    "start_time": "2025-05-05T09:12:42.746Z"
   },
   {
    "duration": 5,
    "start_time": "2025-05-05T09:14:59.030Z"
   },
   {
    "duration": 4,
    "start_time": "2025-05-05T09:15:32.638Z"
   },
   {
    "duration": 4,
    "start_time": "2025-05-05T09:15:37.434Z"
   },
   {
    "duration": 4,
    "start_time": "2025-05-05T09:15:48.434Z"
   },
   {
    "duration": 1390,
    "start_time": "2025-05-05T09:28:32.915Z"
   },
   {
    "duration": 5,
    "start_time": "2025-05-05T09:28:56.527Z"
   },
   {
    "duration": 4,
    "start_time": "2025-05-05T09:30:19.523Z"
   },
   {
    "duration": 4,
    "start_time": "2025-05-05T09:30:33.947Z"
   },
   {
    "duration": 4,
    "start_time": "2025-05-05T09:30:40.174Z"
   },
   {
    "duration": 4,
    "start_time": "2025-05-05T09:33:27.147Z"
   },
   {
    "duration": 130,
    "start_time": "2025-05-05T09:35:19.263Z"
   },
   {
    "duration": 81,
    "start_time": "2025-05-05T09:36:10.311Z"
   },
   {
    "duration": 79,
    "start_time": "2025-05-05T09:36:16.365Z"
   },
   {
    "duration": 13,
    "start_time": "2025-05-05T09:42:37.009Z"
   },
   {
    "duration": 14,
    "start_time": "2025-05-05T09:42:43.644Z"
   },
   {
    "duration": 40,
    "start_time": "2025-05-05T09:51:10.536Z"
   },
   {
    "duration": 33,
    "start_time": "2025-05-05T09:51:16.500Z"
   },
   {
    "duration": 5,
    "start_time": "2025-05-05T09:55:21.299Z"
   },
   {
    "duration": 5,
    "start_time": "2025-05-05T09:55:54.901Z"
   },
   {
    "duration": 95,
    "start_time": "2025-05-05T10:01:25.098Z"
   },
   {
    "duration": 4,
    "start_time": "2025-05-05T10:05:31.578Z"
   },
   {
    "duration": 4,
    "start_time": "2025-05-05T10:05:40.523Z"
   },
   {
    "duration": 4,
    "start_time": "2025-05-05T10:07:01.538Z"
   },
   {
    "duration": 3,
    "start_time": "2025-05-05T10:07:58.381Z"
   },
   {
    "duration": 663,
    "start_time": "2025-05-05T10:09:26.088Z"
   },
   {
    "duration": 858,
    "start_time": "2025-05-05T10:09:56.645Z"
   },
   {
    "duration": 632,
    "start_time": "2025-05-05T10:10:46.400Z"
   },
   {
    "duration": 4,
    "start_time": "2025-05-05T10:18:40.224Z"
   },
   {
    "duration": 67,
    "start_time": "2025-05-05T10:20:12.850Z"
   },
   {
    "duration": 9,
    "start_time": "2025-05-05T10:21:16.815Z"
   },
   {
    "duration": 12,
    "start_time": "2025-05-05T10:21:29.008Z"
   },
   {
    "duration": 12,
    "start_time": "2025-05-05T10:52:47.136Z"
   },
   {
    "duration": 79,
    "start_time": "2025-05-05T10:53:07.077Z"
   },
   {
    "duration": 8,
    "start_time": "2025-05-05T10:53:11.209Z"
   },
   {
    "duration": 10,
    "start_time": "2025-05-05T10:54:13.801Z"
   },
   {
    "duration": 5,
    "start_time": "2025-05-05T10:54:19.381Z"
   },
   {
    "duration": 3,
    "start_time": "2025-05-05T10:54:38.333Z"
   },
   {
    "duration": 7,
    "start_time": "2025-05-05T10:55:11.396Z"
   },
   {
    "duration": 4,
    "start_time": "2025-05-05T10:55:44.564Z"
   },
   {
    "duration": 4,
    "start_time": "2025-05-05T10:55:57.280Z"
   },
   {
    "duration": 49,
    "start_time": "2025-05-06T04:58:39.466Z"
   },
   {
    "duration": 1336,
    "start_time": "2025-05-06T04:58:45.734Z"
   },
   {
    "duration": 1936,
    "start_time": "2025-05-06T04:58:47.072Z"
   },
   {
    "duration": 15,
    "start_time": "2025-05-06T04:58:49.009Z"
   },
   {
    "duration": 579,
    "start_time": "2025-05-06T04:58:49.025Z"
   },
   {
    "duration": 40,
    "start_time": "2025-05-06T04:58:49.606Z"
   },
   {
    "duration": 190,
    "start_time": "2025-05-06T04:58:49.648Z"
   },
   {
    "duration": 45,
    "start_time": "2025-05-06T04:58:49.839Z"
   },
   {
    "duration": 12,
    "start_time": "2025-05-06T04:58:49.886Z"
   },
   {
    "duration": 611,
    "start_time": "2025-05-06T04:58:49.900Z"
   },
   {
    "duration": 523,
    "start_time": "2025-05-06T04:58:50.513Z"
   },
   {
    "duration": 48,
    "start_time": "2025-05-06T04:58:51.038Z"
   },
   {
    "duration": 163,
    "start_time": "2025-05-06T04:58:51.088Z"
   },
   {
    "duration": 146,
    "start_time": "2025-05-06T04:58:51.253Z"
   },
   {
    "duration": 51,
    "start_time": "2025-05-06T04:58:51.402Z"
   },
   {
    "duration": 9,
    "start_time": "2025-05-06T04:58:51.454Z"
   },
   {
    "duration": 691,
    "start_time": "2025-05-06T04:58:51.464Z"
   },
   {
    "duration": 22,
    "start_time": "2025-05-06T04:58:52.156Z"
   },
   {
    "duration": 3,
    "start_time": "2025-05-06T04:58:52.180Z"
   },
   {
    "duration": 10,
    "start_time": "2025-05-06T04:58:52.185Z"
   },
   {
    "duration": 89,
    "start_time": "2025-05-06T04:58:52.196Z"
   },
   {
    "duration": 4,
    "start_time": "2025-05-06T04:58:52.287Z"
   },
   {
    "duration": 4,
    "start_time": "2025-05-06T04:59:06.659Z"
   },
   {
    "duration": 5,
    "start_time": "2025-05-06T04:59:11.614Z"
   },
   {
    "duration": 6,
    "start_time": "2025-05-06T05:06:38.542Z"
   },
   {
    "duration": 6,
    "start_time": "2025-05-06T05:10:26.425Z"
   },
   {
    "duration": 6,
    "start_time": "2025-05-06T05:10:47.052Z"
   },
   {
    "duration": 8,
    "start_time": "2025-05-06T05:11:13.124Z"
   },
   {
    "duration": 4,
    "start_time": "2025-05-06T05:11:58.483Z"
   },
   {
    "duration": 3,
    "start_time": "2025-05-06T05:12:07.112Z"
   },
   {
    "duration": 4,
    "start_time": "2025-05-06T05:13:06.452Z"
   },
   {
    "duration": 4,
    "start_time": "2025-05-06T05:13:51.390Z"
   },
   {
    "duration": 4,
    "start_time": "2025-05-06T05:14:00.522Z"
   },
   {
    "duration": 3,
    "start_time": "2025-05-06T05:14:16.735Z"
   },
   {
    "duration": 4,
    "start_time": "2025-05-06T05:14:24.995Z"
   },
   {
    "duration": 3,
    "start_time": "2025-05-06T05:14:38.081Z"
   },
   {
    "duration": 101,
    "start_time": "2025-05-06T05:15:49.452Z"
   },
   {
    "duration": 10,
    "start_time": "2025-05-06T05:16:54.933Z"
   },
   {
    "duration": 2872,
    "start_time": "2025-05-06T05:17:28.579Z"
   },
   {
    "duration": 2382,
    "start_time": "2025-05-06T05:17:36.018Z"
   },
   {
    "duration": 1271,
    "start_time": "2025-05-06T05:17:38.403Z"
   },
   {
    "duration": 0,
    "start_time": "2025-05-06T05:17:39.676Z"
   },
   {
    "duration": 0,
    "start_time": "2025-05-06T05:17:39.677Z"
   },
   {
    "duration": 0,
    "start_time": "2025-05-06T05:17:39.679Z"
   },
   {
    "duration": 0,
    "start_time": "2025-05-06T05:17:39.679Z"
   },
   {
    "duration": 0,
    "start_time": "2025-05-06T05:17:39.681Z"
   },
   {
    "duration": 0,
    "start_time": "2025-05-06T05:17:39.682Z"
   },
   {
    "duration": 0,
    "start_time": "2025-05-06T05:17:39.683Z"
   },
   {
    "duration": 0,
    "start_time": "2025-05-06T05:17:39.684Z"
   },
   {
    "duration": 0,
    "start_time": "2025-05-06T05:17:39.685Z"
   },
   {
    "duration": 0,
    "start_time": "2025-05-06T05:17:39.686Z"
   },
   {
    "duration": 0,
    "start_time": "2025-05-06T05:17:39.687Z"
   },
   {
    "duration": 0,
    "start_time": "2025-05-06T05:17:39.688Z"
   },
   {
    "duration": 0,
    "start_time": "2025-05-06T05:17:39.690Z"
   },
   {
    "duration": 0,
    "start_time": "2025-05-06T05:17:39.691Z"
   },
   {
    "duration": 0,
    "start_time": "2025-05-06T05:17:39.692Z"
   },
   {
    "duration": 0,
    "start_time": "2025-05-06T05:17:39.693Z"
   },
   {
    "duration": 0,
    "start_time": "2025-05-06T05:17:39.694Z"
   },
   {
    "duration": 0,
    "start_time": "2025-05-06T05:17:39.695Z"
   },
   {
    "duration": 0,
    "start_time": "2025-05-06T05:17:39.696Z"
   },
   {
    "duration": 0,
    "start_time": "2025-05-06T05:17:39.697Z"
   },
   {
    "duration": 2399,
    "start_time": "2025-05-06T05:19:01.742Z"
   },
   {
    "duration": 1255,
    "start_time": "2025-05-06T05:19:04.143Z"
   },
   {
    "duration": 0,
    "start_time": "2025-05-06T05:19:05.401Z"
   },
   {
    "duration": 0,
    "start_time": "2025-05-06T05:19:05.402Z"
   },
   {
    "duration": 0,
    "start_time": "2025-05-06T05:19:05.403Z"
   },
   {
    "duration": 0,
    "start_time": "2025-05-06T05:19:05.404Z"
   },
   {
    "duration": 0,
    "start_time": "2025-05-06T05:19:05.406Z"
   },
   {
    "duration": 0,
    "start_time": "2025-05-06T05:19:05.407Z"
   },
   {
    "duration": 0,
    "start_time": "2025-05-06T05:19:05.409Z"
   },
   {
    "duration": 0,
    "start_time": "2025-05-06T05:19:05.410Z"
   },
   {
    "duration": 0,
    "start_time": "2025-05-06T05:19:05.411Z"
   },
   {
    "duration": 0,
    "start_time": "2025-05-06T05:19:05.412Z"
   },
   {
    "duration": 0,
    "start_time": "2025-05-06T05:19:05.413Z"
   },
   {
    "duration": 0,
    "start_time": "2025-05-06T05:19:05.414Z"
   },
   {
    "duration": 0,
    "start_time": "2025-05-06T05:19:05.415Z"
   },
   {
    "duration": 0,
    "start_time": "2025-05-06T05:19:05.416Z"
   },
   {
    "duration": 0,
    "start_time": "2025-05-06T05:19:05.417Z"
   },
   {
    "duration": 0,
    "start_time": "2025-05-06T05:19:05.418Z"
   },
   {
    "duration": 0,
    "start_time": "2025-05-06T05:19:05.419Z"
   },
   {
    "duration": 0,
    "start_time": "2025-05-06T05:19:05.420Z"
   },
   {
    "duration": 0,
    "start_time": "2025-05-06T05:19:05.421Z"
   },
   {
    "duration": 0,
    "start_time": "2025-05-06T05:19:05.422Z"
   },
   {
    "duration": 8,
    "start_time": "2025-05-06T05:21:39.072Z"
   },
   {
    "duration": 7735,
    "start_time": "2025-05-06T05:22:05.571Z"
   },
   {
    "duration": 14,
    "start_time": "2025-05-06T05:22:15.781Z"
   },
   {
    "duration": 2317,
    "start_time": "2025-05-06T05:22:22.189Z"
   },
   {
    "duration": 1051,
    "start_time": "2025-05-06T05:22:24.508Z"
   },
   {
    "duration": 1905,
    "start_time": "2025-05-06T05:22:25.561Z"
   },
   {
    "duration": 13,
    "start_time": "2025-05-06T05:22:27.468Z"
   },
   {
    "duration": 603,
    "start_time": "2025-05-06T05:22:27.483Z"
   },
   {
    "duration": 38,
    "start_time": "2025-05-06T05:22:28.087Z"
   },
   {
    "duration": 169,
    "start_time": "2025-05-06T05:22:28.126Z"
   },
   {
    "duration": 34,
    "start_time": "2025-05-06T05:22:28.297Z"
   },
   {
    "duration": 11,
    "start_time": "2025-05-06T05:22:28.332Z"
   },
   {
    "duration": 575,
    "start_time": "2025-05-06T05:22:28.345Z"
   },
   {
    "duration": 531,
    "start_time": "2025-05-06T05:22:28.922Z"
   },
   {
    "duration": 36,
    "start_time": "2025-05-06T05:22:29.461Z"
   },
   {
    "duration": 165,
    "start_time": "2025-05-06T05:22:29.499Z"
   },
   {
    "duration": 152,
    "start_time": "2025-05-06T05:22:29.666Z"
   },
   {
    "duration": 62,
    "start_time": "2025-05-06T05:22:29.819Z"
   },
   {
    "duration": 4,
    "start_time": "2025-05-06T05:22:29.883Z"
   },
   {
    "duration": 640,
    "start_time": "2025-05-06T05:22:29.888Z"
   },
   {
    "duration": 18,
    "start_time": "2025-05-06T05:22:30.530Z"
   },
   {
    "duration": 13,
    "start_time": "2025-05-06T05:22:30.549Z"
   },
   {
    "duration": 165,
    "start_time": "2025-05-06T05:22:30.564Z"
   },
   {
    "duration": 3,
    "start_time": "2025-05-06T05:22:30.730Z"
   },
   {
    "duration": 8,
    "start_time": "2025-05-06T05:22:30.735Z"
   },
   {
    "duration": 2350,
    "start_time": "2025-05-06T05:22:43.428Z"
   },
   {
    "duration": 2294,
    "start_time": "2025-05-06T05:22:51.252Z"
   },
   {
    "duration": 1180,
    "start_time": "2025-05-06T05:22:53.548Z"
   },
   {
    "duration": 1737,
    "start_time": "2025-05-06T05:22:54.730Z"
   },
   {
    "duration": 13,
    "start_time": "2025-05-06T05:22:56.469Z"
   },
   {
    "duration": 553,
    "start_time": "2025-05-06T05:22:56.484Z"
   },
   {
    "duration": 43,
    "start_time": "2025-05-06T05:22:57.039Z"
   },
   {
    "duration": 173,
    "start_time": "2025-05-06T05:22:57.083Z"
   },
   {
    "duration": 37,
    "start_time": "2025-05-06T05:22:57.258Z"
   },
   {
    "duration": 11,
    "start_time": "2025-05-06T05:22:57.297Z"
   },
   {
    "duration": 574,
    "start_time": "2025-05-06T05:22:57.309Z"
   },
   {
    "duration": 550,
    "start_time": "2025-05-06T05:22:57.885Z"
   },
   {
    "duration": 43,
    "start_time": "2025-05-06T05:22:58.437Z"
   },
   {
    "duration": 165,
    "start_time": "2025-05-06T05:22:58.481Z"
   },
   {
    "duration": 145,
    "start_time": "2025-05-06T05:22:58.648Z"
   },
   {
    "duration": 54,
    "start_time": "2025-05-06T05:22:58.795Z"
   },
   {
    "duration": 12,
    "start_time": "2025-05-06T05:22:58.851Z"
   },
   {
    "duration": 604,
    "start_time": "2025-05-06T05:22:58.864Z"
   },
   {
    "duration": 18,
    "start_time": "2025-05-06T05:22:59.470Z"
   },
   {
    "duration": 4,
    "start_time": "2025-05-06T05:22:59.489Z"
   },
   {
    "duration": 86,
    "start_time": "2025-05-06T05:22:59.494Z"
   },
   {
    "duration": 3,
    "start_time": "2025-05-06T05:22:59.582Z"
   },
   {
    "duration": 5,
    "start_time": "2025-05-06T05:22:59.586Z"
   },
   {
    "duration": 98,
    "start_time": "2025-05-06T05:24:24.894Z"
   },
   {
    "duration": 832,
    "start_time": "2025-05-06T05:27:36.250Z"
   },
   {
    "duration": 62,
    "start_time": "2025-05-06T05:28:42.715Z"
   },
   {
    "duration": 123,
    "start_time": "2025-05-06T05:28:54.525Z"
   },
   {
    "duration": 105,
    "start_time": "2025-05-06T05:36:02.897Z"
   },
   {
    "duration": 119,
    "start_time": "2025-05-06T05:37:15.322Z"
   },
   {
    "duration": 110,
    "start_time": "2025-05-06T05:37:23.193Z"
   },
   {
    "duration": 113,
    "start_time": "2025-05-06T05:37:42.593Z"
   },
   {
    "duration": 158,
    "start_time": "2025-05-06T05:37:57.857Z"
   },
   {
    "duration": 124,
    "start_time": "2025-05-06T05:39:51.153Z"
   },
   {
    "duration": 2491,
    "start_time": "2025-05-06T05:40:39.314Z"
   },
   {
    "duration": 1150,
    "start_time": "2025-05-06T05:40:41.807Z"
   },
   {
    "duration": 2058,
    "start_time": "2025-05-06T05:40:42.959Z"
   },
   {
    "duration": 16,
    "start_time": "2025-05-06T05:40:45.019Z"
   },
   {
    "duration": 616,
    "start_time": "2025-05-06T05:40:45.037Z"
   },
   {
    "duration": 46,
    "start_time": "2025-05-06T05:40:45.655Z"
   },
   {
    "duration": 186,
    "start_time": "2025-05-06T05:40:45.703Z"
   },
   {
    "duration": 40,
    "start_time": "2025-05-06T05:40:45.891Z"
   },
   {
    "duration": 13,
    "start_time": "2025-05-06T05:40:45.933Z"
   },
   {
    "duration": 599,
    "start_time": "2025-05-06T05:40:45.963Z"
   },
   {
    "duration": 555,
    "start_time": "2025-05-06T05:40:46.564Z"
   },
   {
    "duration": 46,
    "start_time": "2025-05-06T05:40:47.120Z"
   },
   {
    "duration": 180,
    "start_time": "2025-05-06T05:40:47.168Z"
   },
   {
    "duration": 145,
    "start_time": "2025-05-06T05:40:47.350Z"
   },
   {
    "duration": 68,
    "start_time": "2025-05-06T05:40:47.496Z"
   },
   {
    "duration": 4,
    "start_time": "2025-05-06T05:40:47.566Z"
   },
   {
    "duration": 694,
    "start_time": "2025-05-06T05:40:47.571Z"
   },
   {
    "duration": 19,
    "start_time": "2025-05-06T05:40:48.266Z"
   },
   {
    "duration": 4,
    "start_time": "2025-05-06T05:40:48.286Z"
   },
   {
    "duration": 69,
    "start_time": "2025-05-06T05:40:48.291Z"
   },
   {
    "duration": 3,
    "start_time": "2025-05-06T05:40:48.361Z"
   },
   {
    "duration": 140,
    "start_time": "2025-05-06T05:40:48.365Z"
   },
   {
    "duration": 143,
    "start_time": "2025-05-06T05:40:48.506Z"
   },
   {
    "duration": 11,
    "start_time": "2025-05-06T05:53:33.456Z"
   },
   {
    "duration": 7,
    "start_time": "2025-05-06T05:54:06.086Z"
   },
   {
    "duration": 78,
    "start_time": "2025-05-06T05:55:24.754Z"
   },
   {
    "duration": 79,
    "start_time": "2025-05-06T05:55:41.975Z"
   },
   {
    "duration": 7,
    "start_time": "2025-05-06T05:56:01.136Z"
   },
   {
    "duration": 8,
    "start_time": "2025-05-06T05:56:16.953Z"
   },
   {
    "duration": 11,
    "start_time": "2025-05-06T05:56:52.801Z"
   },
   {
    "duration": 11,
    "start_time": "2025-05-06T05:57:06.132Z"
   },
   {
    "duration": 10,
    "start_time": "2025-05-06T05:57:23.329Z"
   },
   {
    "duration": 12,
    "start_time": "2025-05-06T05:58:55.303Z"
   },
   {
    "duration": 15,
    "start_time": "2025-05-06T05:59:49.555Z"
   },
   {
    "duration": 11,
    "start_time": "2025-05-06T06:00:13.492Z"
   },
   {
    "duration": 19,
    "start_time": "2025-05-06T06:00:41.672Z"
   },
   {
    "duration": 14,
    "start_time": "2025-05-06T06:00:53.560Z"
   },
   {
    "duration": 13,
    "start_time": "2025-05-06T06:01:12.780Z"
   },
   {
    "duration": 14,
    "start_time": "2025-05-06T06:02:02.334Z"
   },
   {
    "duration": 15,
    "start_time": "2025-05-06T06:02:11.933Z"
   },
   {
    "duration": 15,
    "start_time": "2025-05-06T06:02:32.630Z"
   },
   {
    "duration": 99,
    "start_time": "2025-05-06T06:05:25.071Z"
   },
   {
    "duration": 9,
    "start_time": "2025-05-06T06:07:33.728Z"
   },
   {
    "duration": 96,
    "start_time": "2025-05-06T06:07:45.039Z"
   },
   {
    "duration": 96,
    "start_time": "2025-05-06T06:08:02.376Z"
   },
   {
    "duration": 101,
    "start_time": "2025-05-06T06:09:40.232Z"
   },
   {
    "duration": 104,
    "start_time": "2025-05-06T06:09:47.103Z"
   },
   {
    "duration": 79,
    "start_time": "2025-05-06T06:10:27.584Z"
   },
   {
    "duration": 75,
    "start_time": "2025-05-06T06:10:53.447Z"
   },
   {
    "duration": 88,
    "start_time": "2025-05-06T06:12:02.500Z"
   },
   {
    "duration": 86,
    "start_time": "2025-05-06T06:12:12.900Z"
   },
   {
    "duration": 306,
    "start_time": "2025-05-06T06:14:43.447Z"
   },
   {
    "duration": 299,
    "start_time": "2025-05-06T06:15:44.963Z"
   },
   {
    "duration": 11,
    "start_time": "2025-05-06T06:16:32.312Z"
   },
   {
    "duration": 7,
    "start_time": "2025-05-06T06:17:16.820Z"
   },
   {
    "duration": 11,
    "start_time": "2025-05-06T06:17:20.184Z"
   },
   {
    "duration": 14,
    "start_time": "2025-05-06T06:17:45.863Z"
   },
   {
    "duration": 15,
    "start_time": "2025-05-06T06:18:25.455Z"
   },
   {
    "duration": 1484,
    "start_time": "2025-05-06T06:19:25.422Z"
   },
   {
    "duration": 286,
    "start_time": "2025-05-06T06:19:42.197Z"
   },
   {
    "duration": 309,
    "start_time": "2025-05-06T06:19:56.510Z"
   },
   {
    "duration": 14,
    "start_time": "2025-05-06T06:37:27.112Z"
   },
   {
    "duration": 14,
    "start_time": "2025-05-06T06:37:35.809Z"
   },
   {
    "duration": 255,
    "start_time": "2025-05-06T06:37:40.686Z"
   },
   {
    "duration": 585,
    "start_time": "2025-05-06T06:49:50.514Z"
   },
   {
    "duration": 743,
    "start_time": "2025-05-06T06:50:58.801Z"
   },
   {
    "duration": 665,
    "start_time": "2025-05-06T06:51:12.569Z"
   },
   {
    "duration": 441,
    "start_time": "2025-05-06T06:51:35.786Z"
   },
   {
    "duration": 53,
    "start_time": "2025-05-06T06:53:09.553Z"
   },
   {
    "duration": 39,
    "start_time": "2025-05-06T06:53:45.266Z"
   },
   {
    "duration": 40,
    "start_time": "2025-05-06T06:53:49.465Z"
   },
   {
    "duration": 45,
    "start_time": "2025-05-06T06:54:07.042Z"
   },
   {
    "duration": 46,
    "start_time": "2025-05-06T06:54:17.592Z"
   },
   {
    "duration": 47,
    "start_time": "2025-05-06T06:54:50.163Z"
   },
   {
    "duration": 46,
    "start_time": "2025-05-06T06:54:55.735Z"
   },
   {
    "duration": 2,
    "start_time": "2025-05-06T06:58:34.787Z"
   },
   {
    "duration": 41,
    "start_time": "2025-05-06T07:07:48.171Z"
   },
   {
    "duration": 36,
    "start_time": "2025-05-06T07:10:49.289Z"
   },
   {
    "duration": 58,
    "start_time": "2025-05-06T07:11:13.446Z"
   },
   {
    "duration": 70,
    "start_time": "2025-05-06T07:12:13.647Z"
   },
   {
    "duration": 67,
    "start_time": "2025-05-06T07:12:27.574Z"
   },
   {
    "duration": 67,
    "start_time": "2025-05-06T07:12:31.592Z"
   },
   {
    "duration": 60,
    "start_time": "2025-05-06T07:12:45.823Z"
   },
   {
    "duration": 48,
    "start_time": "2025-05-06T08:36:49.091Z"
   },
   {
    "duration": 68,
    "start_time": "2025-05-06T08:36:51.223Z"
   },
   {
    "duration": 12,
    "start_time": "2025-05-06T08:37:46.471Z"
   },
   {
    "duration": 25,
    "start_time": "2025-05-06T08:38:27.922Z"
   },
   {
    "duration": 27,
    "start_time": "2025-05-06T08:39:21.044Z"
   },
   {
    "duration": 46,
    "start_time": "2025-05-06T08:39:53.692Z"
   },
   {
    "duration": 29,
    "start_time": "2025-05-06T08:43:27.829Z"
   },
   {
    "duration": 16,
    "start_time": "2025-05-06T08:44:01.573Z"
   },
   {
    "duration": 28,
    "start_time": "2025-05-06T08:44:10.167Z"
   },
   {
    "duration": 16,
    "start_time": "2025-05-06T08:44:21.226Z"
   },
   {
    "duration": 11,
    "start_time": "2025-05-06T08:44:37.421Z"
   },
   {
    "duration": 12,
    "start_time": "2025-05-06T08:44:41.371Z"
   },
   {
    "duration": 1633,
    "start_time": "2025-05-06T08:45:00.906Z"
   },
   {
    "duration": 22,
    "start_time": "2025-05-06T08:45:06.889Z"
   },
   {
    "duration": 15,
    "start_time": "2025-05-06T08:45:30.965Z"
   },
   {
    "duration": 18,
    "start_time": "2025-05-06T08:45:41.112Z"
   },
   {
    "duration": 23,
    "start_time": "2025-05-06T08:47:05.872Z"
   },
   {
    "duration": 27,
    "start_time": "2025-05-06T08:47:10.627Z"
   },
   {
    "duration": 27,
    "start_time": "2025-05-06T08:47:21.108Z"
   },
   {
    "duration": 13,
    "start_time": "2025-05-06T08:52:19.819Z"
   },
   {
    "duration": 15,
    "start_time": "2025-05-06T08:53:08.522Z"
   },
   {
    "duration": 30,
    "start_time": "2025-05-06T08:54:06.008Z"
   },
   {
    "duration": 13,
    "start_time": "2025-05-06T08:54:27.375Z"
   },
   {
    "duration": 21,
    "start_time": "2025-05-06T08:54:49.032Z"
   },
   {
    "duration": 22,
    "start_time": "2025-05-06T08:55:08.702Z"
   },
   {
    "duration": 12,
    "start_time": "2025-05-06T08:56:41.463Z"
   },
   {
    "duration": 15,
    "start_time": "2025-05-06T08:56:45.399Z"
   },
   {
    "duration": 17,
    "start_time": "2025-05-06T08:56:55.054Z"
   },
   {
    "duration": 31,
    "start_time": "2025-05-06T08:57:39.285Z"
   },
   {
    "duration": 13,
    "start_time": "2025-05-06T08:59:21.362Z"
   },
   {
    "duration": 49,
    "start_time": "2025-05-06T09:00:44.685Z"
   },
   {
    "duration": 48,
    "start_time": "2025-05-06T09:00:50.479Z"
   },
   {
    "duration": 57,
    "start_time": "2025-05-06T09:01:41.587Z"
   },
   {
    "duration": 48,
    "start_time": "2025-05-06T09:01:49.012Z"
   },
   {
    "duration": 53,
    "start_time": "2025-05-06T09:04:38.988Z"
   },
   {
    "duration": 47,
    "start_time": "2025-05-06T09:05:09.912Z"
   },
   {
    "duration": 53,
    "start_time": "2025-05-06T09:06:26.374Z"
   },
   {
    "duration": 53,
    "start_time": "2025-05-06T09:07:02.291Z"
   },
   {
    "duration": 48,
    "start_time": "2025-05-06T09:07:22.434Z"
   },
   {
    "duration": 60,
    "start_time": "2025-05-06T09:07:35.172Z"
   },
   {
    "duration": 55,
    "start_time": "2025-05-06T09:07:38.886Z"
   },
   {
    "duration": 9,
    "start_time": "2025-05-06T09:09:20.768Z"
   },
   {
    "duration": 6,
    "start_time": "2025-05-06T09:09:51.916Z"
   },
   {
    "duration": 11,
    "start_time": "2025-05-06T09:09:55.927Z"
   },
   {
    "duration": 7,
    "start_time": "2025-05-06T09:10:14.975Z"
   },
   {
    "duration": 7,
    "start_time": "2025-05-06T09:10:56.789Z"
   },
   {
    "duration": 7,
    "start_time": "2025-05-06T09:11:43.243Z"
   },
   {
    "duration": 13,
    "start_time": "2025-05-06T09:14:54.524Z"
   },
   {
    "duration": 4,
    "start_time": "2025-05-06T09:15:48.426Z"
   },
   {
    "duration": 4,
    "start_time": "2025-05-06T09:16:12.292Z"
   },
   {
    "duration": 3,
    "start_time": "2025-05-06T09:16:22.611Z"
   },
   {
    "duration": 3,
    "start_time": "2025-05-06T09:16:29.516Z"
   },
   {
    "duration": 3,
    "start_time": "2025-05-06T09:16:38.673Z"
   },
   {
    "duration": 3,
    "start_time": "2025-05-06T09:16:50.309Z"
   },
   {
    "duration": 7,
    "start_time": "2025-05-06T09:46:55.260Z"
   },
   {
    "duration": 7,
    "start_time": "2025-05-06T09:47:43.866Z"
   },
   {
    "duration": 8791,
    "start_time": "2025-05-07T05:43:54.666Z"
   },
   {
    "duration": 1343,
    "start_time": "2025-05-07T05:44:03.459Z"
   },
   {
    "duration": 3146,
    "start_time": "2025-05-07T05:44:04.804Z"
   },
   {
    "duration": 25,
    "start_time": "2025-05-07T05:44:07.952Z"
   },
   {
    "duration": 607,
    "start_time": "2025-05-07T05:44:07.979Z"
   },
   {
    "duration": 40,
    "start_time": "2025-05-07T05:44:08.588Z"
   },
   {
    "duration": 181,
    "start_time": "2025-05-07T05:44:08.630Z"
   },
   {
    "duration": 37,
    "start_time": "2025-05-07T05:44:08.812Z"
   },
   {
    "duration": 27,
    "start_time": "2025-05-07T05:44:08.850Z"
   },
   {
    "duration": 712,
    "start_time": "2025-05-07T05:44:08.880Z"
   },
   {
    "duration": 537,
    "start_time": "2025-05-07T05:44:09.594Z"
   },
   {
    "duration": 45,
    "start_time": "2025-05-07T05:44:10.133Z"
   },
   {
    "duration": 171,
    "start_time": "2025-05-07T05:44:10.179Z"
   },
   {
    "duration": 143,
    "start_time": "2025-05-07T05:44:10.352Z"
   },
   {
    "duration": 51,
    "start_time": "2025-05-07T05:44:10.497Z"
   },
   {
    "duration": 34,
    "start_time": "2025-05-07T05:44:10.550Z"
   },
   {
    "duration": 712,
    "start_time": "2025-05-07T05:44:10.586Z"
   },
   {
    "duration": 19,
    "start_time": "2025-05-07T05:44:11.299Z"
   },
   {
    "duration": 5,
    "start_time": "2025-05-07T05:44:11.319Z"
   },
   {
    "duration": 114,
    "start_time": "2025-05-07T05:44:11.325Z"
   },
   {
    "duration": 3,
    "start_time": "2025-05-07T05:44:11.440Z"
   },
   {
    "duration": 128,
    "start_time": "2025-05-07T05:44:11.445Z"
   },
   {
    "duration": 143,
    "start_time": "2025-05-07T05:44:11.575Z"
   },
   {
    "duration": 17,
    "start_time": "2025-05-07T05:44:11.719Z"
   },
   {
    "duration": 15,
    "start_time": "2025-05-07T05:44:11.737Z"
   },
   {
    "duration": 347,
    "start_time": "2025-05-07T05:44:11.754Z"
   },
   {
    "duration": 14,
    "start_time": "2025-05-07T05:44:12.102Z"
   },
   {
    "duration": 14,
    "start_time": "2025-05-07T05:44:12.119Z"
   },
   {
    "duration": 311,
    "start_time": "2025-05-07T05:44:12.135Z"
   },
   {
    "duration": 493,
    "start_time": "2025-05-07T05:44:12.448Z"
   },
   {
    "duration": 45,
    "start_time": "2025-05-07T05:44:12.943Z"
   },
   {
    "duration": 109,
    "start_time": "2025-05-07T05:44:12.990Z"
   },
   {
    "duration": 90,
    "start_time": "2025-05-07T05:44:13.100Z"
   },
   {
    "duration": 3,
    "start_time": "2025-05-07T05:44:13.192Z"
   },
   {
    "duration": 102,
    "start_time": "2025-05-07T05:51:46.798Z"
   },
   {
    "duration": 10,
    "start_time": "2025-05-07T05:52:01.531Z"
   },
   {
    "duration": 5,
    "start_time": "2025-05-07T05:52:44.000Z"
   },
   {
    "duration": 5,
    "start_time": "2025-05-07T05:53:55.589Z"
   },
   {
    "duration": 5,
    "start_time": "2025-05-07T05:55:00.606Z"
   },
   {
    "duration": 6,
    "start_time": "2025-05-07T05:55:18.247Z"
   },
   {
    "duration": 6,
    "start_time": "2025-05-07T05:55:35.568Z"
   },
   {
    "duration": 6,
    "start_time": "2025-05-07T05:56:54.206Z"
   },
   {
    "duration": 7,
    "start_time": "2025-05-07T05:58:44.802Z"
   },
   {
    "duration": 8,
    "start_time": "2025-05-07T05:59:32.675Z"
   },
   {
    "duration": 49,
    "start_time": "2025-05-07T06:01:52.953Z"
   },
   {
    "duration": 6,
    "start_time": "2025-05-07T06:02:43.738Z"
   },
   {
    "duration": 7,
    "start_time": "2025-05-07T06:03:02.769Z"
   },
   {
    "duration": 6,
    "start_time": "2025-05-07T06:04:17.742Z"
   },
   {
    "duration": 10,
    "start_time": "2025-05-07T06:04:35.820Z"
   },
   {
    "duration": 90,
    "start_time": "2025-05-07T06:06:24.965Z"
   },
   {
    "duration": 9,
    "start_time": "2025-05-07T06:06:43.652Z"
   },
   {
    "duration": 6,
    "start_time": "2025-05-07T06:08:07.432Z"
   },
   {
    "duration": 7,
    "start_time": "2025-05-07T06:09:52.449Z"
   },
   {
    "duration": 6,
    "start_time": "2025-05-07T06:12:21.069Z"
   },
   {
    "duration": 6,
    "start_time": "2025-05-07T06:12:57.426Z"
   },
   {
    "duration": 9,
    "start_time": "2025-05-07T06:13:39.306Z"
   },
   {
    "duration": 9,
    "start_time": "2025-05-07T06:24:49.377Z"
   },
   {
    "duration": 942,
    "start_time": "2025-05-07T10:16:05.118Z"
   },
   {
    "duration": 85,
    "start_time": "2025-05-07T10:16:18.586Z"
   },
   {
    "duration": 8427,
    "start_time": "2025-05-07T10:16:24.277Z"
   },
   {
    "duration": 1342,
    "start_time": "2025-05-07T10:16:32.706Z"
   },
   {
    "duration": 7931,
    "start_time": "2025-05-07T10:16:34.049Z"
   },
   {
    "duration": 15,
    "start_time": "2025-05-07T10:16:41.982Z"
   },
   {
    "duration": 639,
    "start_time": "2025-05-07T10:16:41.999Z"
   },
   {
    "duration": 45,
    "start_time": "2025-05-07T10:16:42.639Z"
   },
   {
    "duration": 202,
    "start_time": "2025-05-07T10:16:42.686Z"
   },
   {
    "duration": 40,
    "start_time": "2025-05-07T10:16:42.890Z"
   },
   {
    "duration": 14,
    "start_time": "2025-05-07T10:16:42.932Z"
   },
   {
    "duration": 605,
    "start_time": "2025-05-07T10:16:42.971Z"
   },
   {
    "duration": 573,
    "start_time": "2025-05-07T10:16:43.578Z"
   },
   {
    "duration": 47,
    "start_time": "2025-05-07T10:16:44.153Z"
   },
   {
    "duration": 182,
    "start_time": "2025-05-07T10:16:44.202Z"
   },
   {
    "duration": 151,
    "start_time": "2025-05-07T10:16:44.388Z"
   },
   {
    "duration": 62,
    "start_time": "2025-05-07T10:16:44.541Z"
   },
   {
    "duration": 5,
    "start_time": "2025-05-07T10:16:44.605Z"
   },
   {
    "duration": 698,
    "start_time": "2025-05-07T10:16:44.611Z"
   },
   {
    "duration": 19,
    "start_time": "2025-05-07T10:16:45.310Z"
   },
   {
    "duration": 4,
    "start_time": "2025-05-07T10:16:45.331Z"
   },
   {
    "duration": 119,
    "start_time": "2025-05-07T10:16:45.336Z"
   },
   {
    "duration": 3,
    "start_time": "2025-05-07T10:16:45.456Z"
   },
   {
    "duration": 129,
    "start_time": "2025-05-07T10:16:45.461Z"
   },
   {
    "duration": 159,
    "start_time": "2025-05-07T10:16:45.592Z"
   },
   {
    "duration": 27,
    "start_time": "2025-05-07T10:16:45.753Z"
   },
   {
    "duration": 16,
    "start_time": "2025-05-07T10:16:45.782Z"
   },
   {
    "duration": 373,
    "start_time": "2025-05-07T10:16:45.800Z"
   },
   {
    "duration": 17,
    "start_time": "2025-05-07T10:16:46.175Z"
   },
   {
    "duration": 23,
    "start_time": "2025-05-07T10:16:46.194Z"
   },
   {
    "duration": 332,
    "start_time": "2025-05-07T10:16:46.220Z"
   },
   {
    "duration": 632,
    "start_time": "2025-05-07T10:16:46.553Z"
   },
   {
    "duration": 48,
    "start_time": "2025-05-07T10:16:47.187Z"
   },
   {
    "duration": 91,
    "start_time": "2025-05-07T10:16:47.237Z"
   },
   {
    "duration": 65,
    "start_time": "2025-05-07T10:16:47.330Z"
   },
   {
    "duration": 7,
    "start_time": "2025-05-07T10:16:47.397Z"
   },
   {
    "duration": 17,
    "start_time": "2025-05-07T10:16:47.406Z"
   },
   {
    "duration": 9,
    "start_time": "2025-05-07T10:16:47.425Z"
   },
   {
    "duration": 9,
    "start_time": "2025-05-07T10:16:47.435Z"
   },
   {
    "duration": 32,
    "start_time": "2025-05-07T10:16:47.446Z"
   },
   {
    "duration": 5,
    "start_time": "2025-05-07T10:18:28.217Z"
   },
   {
    "duration": 2376,
    "start_time": "2025-05-07T10:19:15.240Z"
   },
   {
    "duration": 1244,
    "start_time": "2025-05-07T10:19:17.618Z"
   },
   {
    "duration": 2206,
    "start_time": "2025-05-07T10:19:18.864Z"
   },
   {
    "duration": 15,
    "start_time": "2025-05-07T10:19:21.072Z"
   },
   {
    "duration": 582,
    "start_time": "2025-05-07T10:19:21.089Z"
   },
   {
    "duration": 37,
    "start_time": "2025-05-07T10:19:21.672Z"
   },
   {
    "duration": 181,
    "start_time": "2025-05-07T10:19:21.711Z"
   },
   {
    "duration": 36,
    "start_time": "2025-05-07T10:19:21.893Z"
   },
   {
    "duration": 11,
    "start_time": "2025-05-07T10:19:21.931Z"
   },
   {
    "duration": 590,
    "start_time": "2025-05-07T10:19:21.944Z"
   },
   {
    "duration": 554,
    "start_time": "2025-05-07T10:19:22.536Z"
   },
   {
    "duration": 36,
    "start_time": "2025-05-07T10:19:23.092Z"
   },
   {
    "duration": 185,
    "start_time": "2025-05-07T10:19:23.130Z"
   },
   {
    "duration": 142,
    "start_time": "2025-05-07T10:19:23.318Z"
   },
   {
    "duration": 54,
    "start_time": "2025-05-07T10:19:23.462Z"
   },
   {
    "duration": 4,
    "start_time": "2025-05-07T10:19:23.517Z"
   },
   {
    "duration": 590,
    "start_time": "2025-05-07T10:19:23.523Z"
   },
   {
    "duration": 21,
    "start_time": "2025-05-07T10:19:24.114Z"
   },
   {
    "duration": 4,
    "start_time": "2025-05-07T10:19:24.137Z"
   },
   {
    "duration": 79,
    "start_time": "2025-05-07T10:19:24.143Z"
   },
   {
    "duration": 3,
    "start_time": "2025-05-07T10:19:24.224Z"
   },
   {
    "duration": 123,
    "start_time": "2025-05-07T10:19:24.229Z"
   },
   {
    "duration": 141,
    "start_time": "2025-05-07T10:19:24.354Z"
   },
   {
    "duration": 15,
    "start_time": "2025-05-07T10:19:24.497Z"
   },
   {
    "duration": 13,
    "start_time": "2025-05-07T10:19:24.513Z"
   },
   {
    "duration": 328,
    "start_time": "2025-05-07T10:19:24.528Z"
   },
   {
    "duration": 23,
    "start_time": "2025-05-07T10:19:24.858Z"
   },
   {
    "duration": 15,
    "start_time": "2025-05-07T10:19:24.882Z"
   },
   {
    "duration": 284,
    "start_time": "2025-05-07T10:19:24.898Z"
   },
   {
    "duration": 518,
    "start_time": "2025-05-07T10:19:25.184Z"
   },
   {
    "duration": 40,
    "start_time": "2025-05-07T10:19:25.704Z"
   },
   {
    "duration": 77,
    "start_time": "2025-05-07T10:19:25.745Z"
   },
   {
    "duration": 52,
    "start_time": "2025-05-07T10:19:25.824Z"
   },
   {
    "duration": 5,
    "start_time": "2025-05-07T10:19:25.878Z"
   },
   {
    "duration": 8,
    "start_time": "2025-05-07T10:19:25.885Z"
   },
   {
    "duration": 852,
    "start_time": "2025-05-08T09:37:48.267Z"
   },
   {
    "duration": 6,
    "start_time": "2025-05-08T09:38:16.607Z"
   },
   {
    "duration": 6,
    "start_time": "2025-05-08T09:38:32.534Z"
   },
   {
    "duration": 6,
    "start_time": "2025-05-08T09:40:27.297Z"
   },
   {
    "duration": 5,
    "start_time": "2025-05-08T09:40:50.753Z"
   },
   {
    "duration": 5,
    "start_time": "2025-05-08T09:50:54.967Z"
   },
   {
    "duration": 5,
    "start_time": "2025-05-08T09:55:08.706Z"
   },
   {
    "duration": 8367,
    "start_time": "2025-05-08T09:55:16.899Z"
   },
   {
    "duration": 1306,
    "start_time": "2025-05-08T09:55:25.268Z"
   },
   {
    "duration": 1935,
    "start_time": "2025-05-08T09:55:26.575Z"
   },
   {
    "duration": 14,
    "start_time": "2025-05-08T09:55:28.511Z"
   },
   {
    "duration": 607,
    "start_time": "2025-05-08T09:55:28.527Z"
   },
   {
    "duration": 42,
    "start_time": "2025-05-08T09:55:29.135Z"
   },
   {
    "duration": 191,
    "start_time": "2025-05-08T09:55:29.179Z"
   },
   {
    "duration": 41,
    "start_time": "2025-05-08T09:55:29.371Z"
   },
   {
    "duration": 26,
    "start_time": "2025-05-08T09:55:29.414Z"
   },
   {
    "duration": 621,
    "start_time": "2025-05-08T09:55:29.441Z"
   },
   {
    "duration": 561,
    "start_time": "2025-05-08T09:55:30.063Z"
   },
   {
    "duration": 46,
    "start_time": "2025-05-08T09:55:30.626Z"
   },
   {
    "duration": 176,
    "start_time": "2025-05-08T09:55:30.674Z"
   },
   {
    "duration": 187,
    "start_time": "2025-05-08T09:55:30.853Z"
   },
   {
    "duration": 54,
    "start_time": "2025-05-08T09:55:31.041Z"
   },
   {
    "duration": 4,
    "start_time": "2025-05-08T09:55:31.097Z"
   },
   {
    "duration": 756,
    "start_time": "2025-05-08T09:55:31.102Z"
   },
   {
    "duration": 17,
    "start_time": "2025-05-08T09:55:31.860Z"
   },
   {
    "duration": 7,
    "start_time": "2025-05-08T09:55:31.879Z"
   },
   {
    "duration": 444,
    "start_time": "2025-05-08T09:55:31.888Z"
   },
   {
    "duration": 3,
    "start_time": "2025-05-08T09:55:32.334Z"
   },
   {
    "duration": 147,
    "start_time": "2025-05-08T09:55:32.338Z"
   },
   {
    "duration": 153,
    "start_time": "2025-05-08T09:55:32.487Z"
   },
   {
    "duration": 16,
    "start_time": "2025-05-08T09:55:32.641Z"
   },
   {
    "duration": 16,
    "start_time": "2025-05-08T09:55:32.659Z"
   },
   {
    "duration": 351,
    "start_time": "2025-05-08T09:55:32.677Z"
   },
   {
    "duration": 22,
    "start_time": "2025-05-08T09:55:33.029Z"
   },
   {
    "duration": 18,
    "start_time": "2025-05-08T09:55:33.053Z"
   },
   {
    "duration": 332,
    "start_time": "2025-05-08T09:55:33.073Z"
   },
   {
    "duration": 514,
    "start_time": "2025-05-08T09:55:33.406Z"
   },
   {
    "duration": 46,
    "start_time": "2025-05-08T09:55:33.922Z"
   },
   {
    "duration": 73,
    "start_time": "2025-05-08T09:55:33.970Z"
   },
   {
    "duration": 51,
    "start_time": "2025-05-08T09:55:34.045Z"
   },
   {
    "duration": 5,
    "start_time": "2025-05-08T09:55:34.097Z"
   },
   {
    "duration": 23,
    "start_time": "2025-05-08T09:55:34.104Z"
   },
   {
    "duration": 10152,
    "start_time": "2025-05-09T09:22:47.991Z"
   },
   {
    "duration": 1270,
    "start_time": "2025-05-09T09:22:58.145Z"
   },
   {
    "duration": 1948,
    "start_time": "2025-05-09T09:22:59.417Z"
   },
   {
    "duration": 22,
    "start_time": "2025-05-09T09:23:01.367Z"
   },
   {
    "duration": 690,
    "start_time": "2025-05-09T09:23:01.392Z"
   },
   {
    "duration": 43,
    "start_time": "2025-05-09T09:23:02.087Z"
   },
   {
    "duration": 258,
    "start_time": "2025-05-09T09:23:02.131Z"
   },
   {
    "duration": 54,
    "start_time": "2025-05-09T09:23:02.392Z"
   },
   {
    "duration": 60,
    "start_time": "2025-05-09T09:23:02.448Z"
   },
   {
    "duration": 662,
    "start_time": "2025-05-09T09:23:02.510Z"
   },
   {
    "duration": 628,
    "start_time": "2025-05-09T09:23:03.176Z"
   },
   {
    "duration": 40,
    "start_time": "2025-05-09T09:23:03.806Z"
   },
   {
    "duration": 222,
    "start_time": "2025-05-09T09:23:03.848Z"
   },
   {
    "duration": 170,
    "start_time": "2025-05-09T09:23:04.077Z"
   },
   {
    "duration": 80,
    "start_time": "2025-05-09T09:23:04.249Z"
   },
   {
    "duration": 5,
    "start_time": "2025-05-09T09:23:04.331Z"
   },
   {
    "duration": 750,
    "start_time": "2025-05-09T09:23:04.337Z"
   },
   {
    "duration": 20,
    "start_time": "2025-05-09T09:23:05.089Z"
   },
   {
    "duration": 84,
    "start_time": "2025-05-09T09:23:05.110Z"
   },
   {
    "duration": 75,
    "start_time": "2025-05-09T09:23:05.196Z"
   },
   {
    "duration": 10,
    "start_time": "2025-05-09T09:23:05.273Z"
   },
   {
    "duration": 177,
    "start_time": "2025-05-09T09:23:05.285Z"
   },
   {
    "duration": 169,
    "start_time": "2025-05-09T09:23:05.464Z"
   },
   {
    "duration": 203,
    "start_time": "2025-05-09T09:23:05.634Z"
   },
   {
    "duration": 54,
    "start_time": "2025-05-09T09:23:05.839Z"
   },
   {
    "duration": 440,
    "start_time": "2025-05-09T09:23:05.895Z"
   },
   {
    "duration": 16,
    "start_time": "2025-05-09T09:23:06.337Z"
   },
   {
    "duration": 52,
    "start_time": "2025-05-09T09:23:06.354Z"
   },
   {
    "duration": 336,
    "start_time": "2025-05-09T09:23:06.407Z"
   },
   {
    "duration": 747,
    "start_time": "2025-05-09T09:23:06.745Z"
   },
   {
    "duration": 43,
    "start_time": "2025-05-09T09:23:07.496Z"
   },
   {
    "duration": 153,
    "start_time": "2025-05-09T09:23:07.540Z"
   },
   {
    "duration": 88,
    "start_time": "2025-05-09T09:23:07.695Z"
   },
   {
    "duration": 56,
    "start_time": "2025-05-09T09:23:07.785Z"
   },
   {
    "duration": 57,
    "start_time": "2025-05-09T09:23:07.843Z"
   },
   {
    "duration": 7552,
    "start_time": "2025-05-12T10:16:03.920Z"
   },
   {
    "duration": 1298,
    "start_time": "2025-05-12T10:16:11.474Z"
   },
   {
    "duration": 1972,
    "start_time": "2025-05-12T10:16:12.773Z"
   },
   {
    "duration": 12,
    "start_time": "2025-05-12T10:16:14.747Z"
   },
   {
    "duration": 550,
    "start_time": "2025-05-12T10:16:14.770Z"
   },
   {
    "duration": 50,
    "start_time": "2025-05-12T10:16:15.322Z"
   },
   {
    "duration": 164,
    "start_time": "2025-05-12T10:16:15.374Z"
   },
   {
    "duration": 41,
    "start_time": "2025-05-12T10:16:15.539Z"
   },
   {
    "duration": 11,
    "start_time": "2025-05-12T10:16:15.581Z"
   },
   {
    "duration": 531,
    "start_time": "2025-05-12T10:16:15.595Z"
   },
   {
    "duration": 502,
    "start_time": "2025-05-12T10:16:16.127Z"
   },
   {
    "duration": 42,
    "start_time": "2025-05-12T10:16:16.631Z"
   },
   {
    "duration": 157,
    "start_time": "2025-05-12T10:16:16.674Z"
   },
   {
    "duration": 146,
    "start_time": "2025-05-12T10:16:16.832Z"
   },
   {
    "duration": 46,
    "start_time": "2025-05-12T10:16:16.979Z"
   },
   {
    "duration": 3,
    "start_time": "2025-05-12T10:16:17.027Z"
   },
   {
    "duration": 650,
    "start_time": "2025-05-12T10:16:17.031Z"
   },
   {
    "duration": 16,
    "start_time": "2025-05-12T10:16:17.683Z"
   },
   {
    "duration": 3,
    "start_time": "2025-05-12T10:16:17.701Z"
   },
   {
    "duration": 132,
    "start_time": "2025-05-12T10:16:17.706Z"
   },
   {
    "duration": 3,
    "start_time": "2025-05-12T10:16:17.839Z"
   },
   {
    "duration": 112,
    "start_time": "2025-05-12T10:16:17.844Z"
   },
   {
    "duration": 121,
    "start_time": "2025-05-12T10:16:17.957Z"
   },
   {
    "duration": 14,
    "start_time": "2025-05-12T10:16:18.079Z"
   },
   {
    "duration": 12,
    "start_time": "2025-05-12T10:16:18.094Z"
   },
   {
    "duration": 337,
    "start_time": "2025-05-12T10:16:18.107Z"
   },
   {
    "duration": 26,
    "start_time": "2025-05-12T10:16:18.445Z"
   },
   {
    "duration": 12,
    "start_time": "2025-05-12T10:16:18.474Z"
   },
   {
    "duration": 257,
    "start_time": "2025-05-12T10:16:18.487Z"
   },
   {
    "duration": 516,
    "start_time": "2025-05-12T10:16:18.746Z"
   },
   {
    "duration": 41,
    "start_time": "2025-05-12T10:16:19.263Z"
   },
   {
    "duration": 75,
    "start_time": "2025-05-12T10:16:19.306Z"
   },
   {
    "duration": 46,
    "start_time": "2025-05-12T10:16:19.383Z"
   },
   {
    "duration": 6,
    "start_time": "2025-05-12T10:16:19.430Z"
   },
   {
    "duration": 62,
    "start_time": "2025-05-12T10:16:19.437Z"
   },
   {
    "duration": 3,
    "start_time": "2025-05-12T10:18:15.291Z"
   },
   {
    "duration": 2209,
    "start_time": "2025-05-12T10:18:20.110Z"
   },
   {
    "duration": 1097,
    "start_time": "2025-05-12T10:18:22.322Z"
   },
   {
    "duration": 1941,
    "start_time": "2025-05-12T10:18:23.421Z"
   },
   {
    "duration": 17,
    "start_time": "2025-05-12T10:18:25.363Z"
   },
   {
    "duration": 575,
    "start_time": "2025-05-12T10:18:25.382Z"
   },
   {
    "duration": 41,
    "start_time": "2025-05-12T10:18:25.959Z"
   },
   {
    "duration": 171,
    "start_time": "2025-05-12T10:18:26.001Z"
   },
   {
    "duration": 42,
    "start_time": "2025-05-12T10:18:26.174Z"
   },
   {
    "duration": 18,
    "start_time": "2025-05-12T10:18:26.218Z"
   },
   {
    "duration": 591,
    "start_time": "2025-05-12T10:18:26.237Z"
   },
   {
    "duration": 493,
    "start_time": "2025-05-12T10:18:26.829Z"
   },
   {
    "duration": 35,
    "start_time": "2025-05-12T10:18:27.324Z"
   },
   {
    "duration": 157,
    "start_time": "2025-05-12T10:18:27.371Z"
   },
   {
    "duration": 138,
    "start_time": "2025-05-12T10:18:27.531Z"
   },
   {
    "duration": 48,
    "start_time": "2025-05-12T10:18:27.670Z"
   },
   {
    "duration": 3,
    "start_time": "2025-05-12T10:18:27.719Z"
   },
   {
    "duration": 573,
    "start_time": "2025-05-12T10:18:27.724Z"
   },
   {
    "duration": 18,
    "start_time": "2025-05-12T10:18:28.299Z"
   },
   {
    "duration": 4,
    "start_time": "2025-05-12T10:18:28.318Z"
   },
   {
    "duration": 55,
    "start_time": "2025-05-12T10:18:28.324Z"
   },
   {
    "duration": 3,
    "start_time": "2025-05-12T10:18:28.381Z"
   },
   {
    "duration": 187,
    "start_time": "2025-05-12T10:18:28.385Z"
   },
   {
    "duration": 121,
    "start_time": "2025-05-12T10:18:28.574Z"
   },
   {
    "duration": 13,
    "start_time": "2025-05-12T10:18:28.696Z"
   },
   {
    "duration": 18,
    "start_time": "2025-05-12T10:18:28.710Z"
   },
   {
    "duration": 312,
    "start_time": "2025-05-12T10:18:28.729Z"
   },
   {
    "duration": 28,
    "start_time": "2025-05-12T10:18:29.043Z"
   },
   {
    "duration": 15,
    "start_time": "2025-05-12T10:18:29.072Z"
   },
   {
    "duration": 259,
    "start_time": "2025-05-12T10:18:29.088Z"
   },
   {
    "duration": 473,
    "start_time": "2025-05-12T10:18:29.349Z"
   },
   {
    "duration": 38,
    "start_time": "2025-05-12T10:18:29.824Z"
   },
   {
    "duration": 56,
    "start_time": "2025-05-12T10:18:29.871Z"
   },
   {
    "duration": 56,
    "start_time": "2025-05-12T10:18:29.929Z"
   },
   {
    "duration": 6,
    "start_time": "2025-05-12T10:18:29.986Z"
   },
   {
    "duration": 70,
    "start_time": "2025-05-12T10:18:29.993Z"
   },
   {
    "duration": 81,
    "start_time": "2025-05-12T10:20:17.646Z"
   },
   {
    "duration": 236,
    "start_time": "2025-05-12T10:20:30.045Z"
   },
   {
    "duration": 574,
    "start_time": "2025-05-12T10:21:46.896Z"
   },
   {
    "duration": 506,
    "start_time": "2025-05-12T10:22:49.631Z"
   },
   {
    "duration": 487,
    "start_time": "2025-05-12T10:24:44.084Z"
   },
   {
    "duration": 11,
    "start_time": "2025-05-12T10:26:00.607Z"
   },
   {
    "duration": 556,
    "start_time": "2025-05-12T10:26:14.244Z"
   },
   {
    "duration": 13,
    "start_time": "2025-05-12T10:27:03.454Z"
   },
   {
    "duration": 519,
    "start_time": "2025-05-12T10:27:18.791Z"
   },
   {
    "duration": 486,
    "start_time": "2025-05-12T10:27:20.039Z"
   },
   {
    "duration": 38,
    "start_time": "2025-05-12T10:32:43.029Z"
   },
   {
    "duration": 4,
    "start_time": "2025-05-12T10:32:45.125Z"
   },
   {
    "duration": 612,
    "start_time": "2025-05-12T10:32:45.835Z"
   },
   {
    "duration": 10,
    "start_time": "2025-05-12T10:37:51.010Z"
   },
   {
    "duration": 15,
    "start_time": "2025-05-12T10:38:01.078Z"
   },
   {
    "duration": 11,
    "start_time": "2025-05-12T10:38:09.754Z"
   },
   {
    "duration": 11,
    "start_time": "2025-05-12T10:38:15.830Z"
   },
   {
    "duration": 13,
    "start_time": "2025-05-12T10:38:28.184Z"
   },
   {
    "duration": 16,
    "start_time": "2025-05-12T10:38:35.075Z"
   },
   {
    "duration": 14,
    "start_time": "2025-05-12T10:38:48.504Z"
   },
   {
    "duration": 327,
    "start_time": "2025-05-12T10:38:52.834Z"
   },
   {
    "duration": 15,
    "start_time": "2025-05-12T10:39:25.334Z"
   },
   {
    "duration": 23,
    "start_time": "2025-05-12T10:39:34.578Z"
   },
   {
    "duration": 293,
    "start_time": "2025-05-12T10:39:37.238Z"
   },
   {
    "duration": 2354,
    "start_time": "2025-05-12T10:47:29.772Z"
   },
   {
    "duration": 1166,
    "start_time": "2025-05-12T10:47:32.128Z"
   },
   {
    "duration": 2230,
    "start_time": "2025-05-12T10:47:33.296Z"
   },
   {
    "duration": 13,
    "start_time": "2025-05-12T10:47:35.527Z"
   },
   {
    "duration": 665,
    "start_time": "2025-05-12T10:47:35.542Z"
   },
   {
    "duration": 77,
    "start_time": "2025-05-12T10:47:36.209Z"
   },
   {
    "duration": 174,
    "start_time": "2025-05-12T10:47:36.288Z"
   },
   {
    "duration": 49,
    "start_time": "2025-05-12T10:47:36.464Z"
   },
   {
    "duration": 21,
    "start_time": "2025-05-12T10:47:36.515Z"
   },
   {
    "duration": 580,
    "start_time": "2025-05-12T10:47:36.538Z"
   },
   {
    "duration": 538,
    "start_time": "2025-05-12T10:47:37.119Z"
   },
   {
    "duration": 51,
    "start_time": "2025-05-12T10:47:37.658Z"
   },
   {
    "duration": 174,
    "start_time": "2025-05-12T10:47:37.711Z"
   },
   {
    "duration": 144,
    "start_time": "2025-05-12T10:47:37.888Z"
   },
   {
    "duration": 66,
    "start_time": "2025-05-12T10:47:38.034Z"
   },
   {
    "duration": 3,
    "start_time": "2025-05-12T10:47:38.102Z"
   },
   {
    "duration": 629,
    "start_time": "2025-05-12T10:47:38.107Z"
   },
   {
    "duration": 18,
    "start_time": "2025-05-12T10:47:38.738Z"
   },
   {
    "duration": 12,
    "start_time": "2025-05-12T10:47:38.770Z"
   },
   {
    "duration": 51,
    "start_time": "2025-05-12T10:47:38.789Z"
   },
   {
    "duration": 7,
    "start_time": "2025-05-12T10:47:38.843Z"
   },
   {
    "duration": 142,
    "start_time": "2025-05-12T10:47:38.854Z"
   },
   {
    "duration": 137,
    "start_time": "2025-05-12T10:47:38.998Z"
   },
   {
    "duration": 13,
    "start_time": "2025-05-12T10:47:39.137Z"
   },
   {
    "duration": 32,
    "start_time": "2025-05-12T10:47:39.152Z"
   },
   {
    "duration": 299,
    "start_time": "2025-05-12T10:47:39.187Z"
   },
   {
    "duration": 14,
    "start_time": "2025-05-12T10:47:39.488Z"
   },
   {
    "duration": 13,
    "start_time": "2025-05-12T10:47:39.503Z"
   },
   {
    "duration": 312,
    "start_time": "2025-05-12T10:47:39.517Z"
   },
   {
    "duration": 666,
    "start_time": "2025-05-12T10:47:39.831Z"
   },
   {
    "duration": 39,
    "start_time": "2025-05-12T10:47:40.499Z"
   },
   {
    "duration": 81,
    "start_time": "2025-05-12T10:47:40.539Z"
   },
   {
    "duration": 65,
    "start_time": "2025-05-12T10:47:40.622Z"
   },
   {
    "duration": 6,
    "start_time": "2025-05-12T10:47:40.688Z"
   },
   {
    "duration": 27,
    "start_time": "2025-05-12T10:47:40.696Z"
   },
   {
    "duration": 4,
    "start_time": "2025-05-12T10:49:59.655Z"
   },
   {
    "duration": 2390,
    "start_time": "2025-05-12T10:57:58.162Z"
   },
   {
    "duration": 1245,
    "start_time": "2025-05-12T10:58:00.554Z"
   },
   {
    "duration": 1885,
    "start_time": "2025-05-12T10:58:01.800Z"
   },
   {
    "duration": 14,
    "start_time": "2025-05-12T10:58:03.687Z"
   },
   {
    "duration": 602,
    "start_time": "2025-05-12T10:58:03.703Z"
   },
   {
    "duration": 37,
    "start_time": "2025-05-12T10:58:04.306Z"
   },
   {
    "duration": 183,
    "start_time": "2025-05-12T10:58:04.345Z"
   },
   {
    "duration": 47,
    "start_time": "2025-05-12T10:58:04.529Z"
   },
   {
    "duration": 18,
    "start_time": "2025-05-12T10:58:04.583Z"
   },
   {
    "duration": 595,
    "start_time": "2025-05-12T10:58:04.603Z"
   },
   {
    "duration": 528,
    "start_time": "2025-05-12T10:58:05.201Z"
   },
   {
    "duration": 47,
    "start_time": "2025-05-12T10:58:05.731Z"
   },
   {
    "duration": 165,
    "start_time": "2025-05-12T10:58:05.781Z"
   },
   {
    "duration": 156,
    "start_time": "2025-05-12T10:58:05.949Z"
   },
   {
    "duration": 48,
    "start_time": "2025-05-12T10:58:06.107Z"
   },
   {
    "duration": 19,
    "start_time": "2025-05-12T10:58:06.157Z"
   },
   {
    "duration": 666,
    "start_time": "2025-05-12T10:58:06.178Z"
   },
   {
    "duration": 27,
    "start_time": "2025-05-12T10:58:06.846Z"
   },
   {
    "duration": 10,
    "start_time": "2025-05-12T10:58:06.878Z"
   },
   {
    "duration": 52,
    "start_time": "2025-05-12T10:58:06.890Z"
   },
   {
    "duration": 3,
    "start_time": "2025-05-12T10:58:06.944Z"
   },
   {
    "duration": 130,
    "start_time": "2025-05-12T10:58:06.948Z"
   },
   {
    "duration": 126,
    "start_time": "2025-05-12T10:58:07.086Z"
   },
   {
    "duration": 14,
    "start_time": "2025-05-12T10:58:07.213Z"
   },
   {
    "duration": 39,
    "start_time": "2025-05-12T10:58:07.229Z"
   },
   {
    "duration": 310,
    "start_time": "2025-05-12T10:58:07.269Z"
   },
   {
    "duration": 16,
    "start_time": "2025-05-12T10:58:07.582Z"
   },
   {
    "duration": 91,
    "start_time": "2025-05-12T10:58:07.600Z"
   },
   {
    "duration": 339,
    "start_time": "2025-05-12T10:58:07.692Z"
   },
   {
    "duration": 656,
    "start_time": "2025-05-12T10:58:08.033Z"
   },
   {
    "duration": 37,
    "start_time": "2025-05-12T10:58:08.691Z"
   },
   {
    "duration": 87,
    "start_time": "2025-05-12T10:58:08.730Z"
   },
   {
    "duration": 66,
    "start_time": "2025-05-12T10:58:08.818Z"
   },
   {
    "duration": 9,
    "start_time": "2025-05-12T10:58:08.886Z"
   },
   {
    "duration": 31,
    "start_time": "2025-05-12T10:58:08.896Z"
   },
   {
    "duration": 3601,
    "start_time": "2025-05-12T11:00:12.072Z"
   },
   {
    "duration": 1823,
    "start_time": "2025-05-12T11:00:15.675Z"
   },
   {
    "duration": 13,
    "start_time": "2025-05-12T11:00:17.500Z"
   },
   {
    "duration": 625,
    "start_time": "2025-05-12T11:00:17.515Z"
   },
   {
    "duration": 53,
    "start_time": "2025-05-12T11:00:18.143Z"
   },
   {
    "duration": 191,
    "start_time": "2025-05-12T11:00:18.198Z"
   },
   {
    "duration": 36,
    "start_time": "2025-05-12T11:00:18.391Z"
   },
   {
    "duration": 13,
    "start_time": "2025-05-12T11:00:18.429Z"
   },
   {
    "duration": 675,
    "start_time": "2025-05-12T11:00:18.444Z"
   },
   {
    "duration": 565,
    "start_time": "2025-05-12T11:00:19.120Z"
   },
   {
    "duration": 34,
    "start_time": "2025-05-12T11:00:19.687Z"
   },
   {
    "duration": 175,
    "start_time": "2025-05-12T11:00:19.723Z"
   },
   {
    "duration": 147,
    "start_time": "2025-05-12T11:00:19.899Z"
   },
   {
    "duration": 59,
    "start_time": "2025-05-12T11:00:20.049Z"
   },
   {
    "duration": 3,
    "start_time": "2025-05-12T11:00:20.110Z"
   },
   {
    "duration": 616,
    "start_time": "2025-05-12T11:00:20.115Z"
   },
   {
    "duration": 17,
    "start_time": "2025-05-12T11:00:20.732Z"
   },
   {
    "duration": 26,
    "start_time": "2025-05-12T11:00:20.750Z"
   },
   {
    "duration": 47,
    "start_time": "2025-05-12T11:00:20.779Z"
   },
   {
    "duration": 3,
    "start_time": "2025-05-12T11:00:20.827Z"
   },
   {
    "duration": 115,
    "start_time": "2025-05-12T11:00:20.832Z"
   },
   {
    "duration": 149,
    "start_time": "2025-05-12T11:00:20.948Z"
   },
   {
    "duration": 13,
    "start_time": "2025-05-12T11:00:21.099Z"
   },
   {
    "duration": 46,
    "start_time": "2025-05-12T11:00:21.113Z"
   },
   {
    "duration": 313,
    "start_time": "2025-05-12T11:00:21.161Z"
   },
   {
    "duration": 16,
    "start_time": "2025-05-12T11:00:21.483Z"
   },
   {
    "duration": 54,
    "start_time": "2025-05-12T11:00:21.500Z"
   },
   {
    "duration": 284,
    "start_time": "2025-05-12T11:00:21.556Z"
   },
   {
    "duration": 532,
    "start_time": "2025-05-12T11:00:21.841Z"
   },
   {
    "duration": 42,
    "start_time": "2025-05-12T11:00:22.377Z"
   },
   {
    "duration": 83,
    "start_time": "2025-05-12T11:00:22.421Z"
   },
   {
    "duration": 45,
    "start_time": "2025-05-12T11:00:22.505Z"
   },
   {
    "duration": 27,
    "start_time": "2025-05-12T11:00:22.552Z"
   },
   {
    "duration": 10,
    "start_time": "2025-05-12T11:00:22.583Z"
   },
   {
    "duration": 11780,
    "start_time": "2025-05-13T10:00:20.775Z"
   },
   {
    "duration": 2032,
    "start_time": "2025-05-13T10:00:32.558Z"
   },
   {
    "duration": 17,
    "start_time": "2025-05-13T10:00:34.592Z"
   },
   {
    "duration": 784,
    "start_time": "2025-05-13T10:00:34.611Z"
   },
   {
    "duration": 48,
    "start_time": "2025-05-13T10:00:35.397Z"
   },
   {
    "duration": 244,
    "start_time": "2025-05-13T10:00:35.447Z"
   },
   {
    "duration": 40,
    "start_time": "2025-05-13T10:00:35.693Z"
   },
   {
    "duration": 49,
    "start_time": "2025-05-13T10:00:35.735Z"
   },
   {
    "duration": 738,
    "start_time": "2025-05-13T10:00:35.786Z"
   },
   {
    "duration": 701,
    "start_time": "2025-05-13T10:00:36.529Z"
   },
   {
    "duration": 71,
    "start_time": "2025-05-13T10:00:37.231Z"
   },
   {
    "duration": 261,
    "start_time": "2025-05-13T10:00:37.305Z"
   },
   {
    "duration": 189,
    "start_time": "2025-05-13T10:00:37.575Z"
   },
   {
    "duration": 68,
    "start_time": "2025-05-13T10:00:37.767Z"
   },
   {
    "duration": 17,
    "start_time": "2025-05-13T10:00:37.837Z"
   },
   {
    "duration": 743,
    "start_time": "2025-05-13T10:00:37.856Z"
   },
   {
    "duration": 20,
    "start_time": "2025-05-13T10:00:38.601Z"
   },
   {
    "duration": 4,
    "start_time": "2025-05-13T10:00:38.623Z"
   },
   {
    "duration": 152,
    "start_time": "2025-05-13T10:00:38.629Z"
   },
   {
    "duration": 4,
    "start_time": "2025-05-13T10:00:38.783Z"
   },
   {
    "duration": 162,
    "start_time": "2025-05-13T10:00:38.789Z"
   },
   {
    "duration": 152,
    "start_time": "2025-05-13T10:00:38.954Z"
   },
   {
    "duration": 18,
    "start_time": "2025-05-13T10:00:39.108Z"
   },
   {
    "duration": 39,
    "start_time": "2025-05-13T10:00:39.127Z"
   },
   {
    "duration": 343,
    "start_time": "2025-05-13T10:00:39.167Z"
   },
   {
    "duration": 16,
    "start_time": "2025-05-13T10:00:39.512Z"
   },
   {
    "duration": 57,
    "start_time": "2025-05-13T10:00:39.530Z"
   },
   {
    "duration": 324,
    "start_time": "2025-05-13T10:00:39.591Z"
   },
   {
    "duration": 639,
    "start_time": "2025-05-13T10:00:39.916Z"
   },
   {
    "duration": 62,
    "start_time": "2025-05-13T10:00:40.557Z"
   },
   {
    "duration": 114,
    "start_time": "2025-05-13T10:00:40.621Z"
   },
   {
    "duration": 80,
    "start_time": "2025-05-13T10:00:40.736Z"
   },
   {
    "duration": 9,
    "start_time": "2025-05-13T10:00:40.818Z"
   },
   {
    "duration": 22,
    "start_time": "2025-05-13T10:00:40.829Z"
   }
  ],
  "colab": {
   "provenance": []
  },
  "kernelspec": {
   "display_name": "Python [conda env:base] *",
   "language": "python",
   "name": "conda-base-py"
  },
  "language_info": {
   "codemirror_mode": {
    "name": "ipython",
    "version": 3
   },
   "file_extension": ".py",
   "mimetype": "text/x-python",
   "name": "python",
   "nbconvert_exporter": "python",
   "pygments_lexer": "ipython3",
   "version": "3.12.7"
  },
  "toc": {
   "base_numbering": 1,
   "nav_menu": {},
   "number_sections": true,
   "sideBar": true,
   "skip_h1_title": true,
   "title_cell": "Table of Contents",
   "title_sidebar": "Contents",
   "toc_cell": false,
   "toc_position": {},
   "toc_section_display": true,
   "toc_window_display": false
  }
 },
 "nbformat": 4,
 "nbformat_minor": 4
}
